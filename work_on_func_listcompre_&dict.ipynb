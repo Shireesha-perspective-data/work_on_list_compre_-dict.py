{
 "cells": [
  {
   "cell_type": "code",
   "execution_count": 6,
   "id": "01aaba65",
   "metadata": {},
   "outputs": [
    {
     "name": "stdout",
     "output_type": "stream",
     "text": [
      "False\n"
     ]
    }
   ],
   "source": [
    "def is_adjacent(matrix,node1,node2):\n",
    "    return bool(matrix[node1][node2])\n",
    "print(is_adjacent([[0,1,0,0],[1,0,1,1],[0,1,0,1],[0,1,1,0]],0,0))\n",
    "\n"
   ]
  },
  {
   "cell_type": "code",
   "execution_count": 5,
   "id": "bca2591e",
   "metadata": {},
   "outputs": [
    {
     "name": "stdout",
     "output_type": "stream",
     "text": [
      "True\n"
     ]
    }
   ],
   "source": [
    "def is_adjacent(matrix, node1, node2):\n",
    "    return bool(matrix[node1][node2])\n",
    "\n",
    "print (is_adjacent([\n",
    "  [ 0, 1, 0, 0 ],\n",
    "  [ 1, 0, 1, 1 ],\n",
    "    \n",
    "  [ 0, 1, 0, 1 ],\n",
    "  [ 0, 1, 1, 0 ]\n",
    "    \n",
    "], 0, 1))"
   ]
  },
  {
   "cell_type": "code",
   "execution_count": 63,
   "id": "2b2cf6b5",
   "metadata": {},
   "outputs": [
    {
     "name": "stdout",
     "output_type": "stream",
     "text": [
      "[[1, 2, 3, 9], [3, 4, 1, 2]]\n"
     ]
    }
   ],
   "source": [
    "def is_column(row):\n",
    "    row=[[1,2,3,9],[2,3,4,1],[3,4,1,2],[4,1,2,3]]\n",
    "    for v in range(0,len(row)):\n",
    "        print(row[0:4:2][:4:]) \n",
    "        break;\n",
    "is_column(1)\n"
   ]
  },
  {
   "cell_type": "code",
   "execution_count": 64,
   "id": "31dae941",
   "metadata": {},
   "outputs": [
    {
     "name": "stdout",
     "output_type": "stream",
     "text": [
      "[[1, 2, 3, 9], [3, 4, 1, 2]]\n"
     ]
    }
   ],
   "source": [
    "row=[[1,2,3,9],[2,3,4,1],[3,4,1,2],[4,1,2,3]]\n",
    "for v in range(0,len(row)):\n",
    "    print(row[0:4:2][:4:])\n",
    "    break;"
   ]
  },
  {
   "cell_type": "code",
   "execution_count": 12,
   "id": "a67a4c2f",
   "metadata": {},
   "outputs": [
    {
     "name": "stdout",
     "output_type": "stream",
     "text": [
      "\n",
      " * \n",
      " *  * \n",
      " *  *  * \n",
      " *  *  *  * \n",
      " *  *  *  *  * \n",
      " *  *  *  *  *  * \n",
      " *  *  *  *  *  *  * \n",
      " *  *  *  *  *  *  *  * \n",
      " *  *  *  *  *  *  *  *  * \n",
      " *  *  *  *  *  *  *  *  *  * \n"
     ]
    }
   ],
   "source": [
    "def sample(row):\n",
    "    for i in range(0,(row+1)):\n",
    "        print(\" * \"*i)\n",
    "sample(10)"
   ]
  },
  {
   "cell_type": "code",
   "execution_count": 66,
   "id": "2bada4cb",
   "metadata": {},
   "outputs": [
    {
     "name": "stdout",
     "output_type": "stream",
     "text": [
      "****\n",
      "***\n",
      "**\n",
      "*\n",
      "\n"
     ]
    }
   ],
   "source": [
    "def sample(row):\n",
    "    for i in range((row+1)-1,-1,-1):\n",
    "        print(\"*\"*i)\n",
    "sample(4)"
   ]
  },
  {
   "cell_type": "code",
   "execution_count": 69,
   "id": "9fff8e98",
   "metadata": {},
   "outputs": [
    {
     "name": "stdout",
     "output_type": "stream",
     "text": [
      "0 1 2 3 4 5 6 7 8 9 10 11 12 13 14 15 16 17 18 19 20 21 22 23 24 25 26 27 28 29 30 31 32 33 34 35 36 37 38 39 40 41 42 43 44 45 46 47 48 49 50 51 52 53 54 55 56 57 58 59 60 61 62 63 64 65 66 67 68 69 70 71 72 73 74 75 76 77 78 79 80 81 82 83 84 "
     ]
    }
   ],
   "source": [
    "sample=\"i wants to reason ,why do you like this activities,can i know the reason.iam here....\"\n",
    "for i in range(0,len(sample)):\n",
    "    print(i,end=\" \")"
   ]
  },
  {
   "cell_type": "code",
   "execution_count": 1,
   "id": "1157f107",
   "metadata": {},
   "outputs": [
    {
     "name": "stdout",
     "output_type": "stream",
     "text": [
      "{'i': 8, ' ': 14, 'w': 3, 'a': 6, 'n': 5, 't': 6, 's': 5, 'o': 6, 'r': 3, 'e': 7, 'z': 1, ',': 2, 'h': 4, 'y': 2, 'd': 1, 'u': 1, 'l': 1, 'k': 2, 'c': 2, 'v': 1, '.': 5, 'm': 1}\n"
     ]
    }
   ],
   "source": [
    "sample=\"i wants to reasonz ,why do you like this activities,can i know the reason.iam here....\"\n",
    "d={}\n",
    "for j in sample:\n",
    "    if j in d:\n",
    "        d[j]+=1\n",
    "    else:\n",
    "        d[j]=1\n",
    "print(d)\n",
    "        "
   ]
  },
  {
   "cell_type": "code",
   "execution_count": 81,
   "id": "45ee6fb0",
   "metadata": {},
   "outputs": [
    {
     "data": {
      "text/plain": [
       "6.666666666666667"
      ]
     },
     "execution_count": 81,
     "metadata": {},
     "output_type": "execute_result"
    }
   ],
   "source": [
    "def sample(x,y,z):\n",
    "    x,y=y,x\n",
    "    n=y=x;\n",
    "    return n/3\n",
    "sample(10,20,30)"
   ]
  },
  {
   "cell_type": "code",
   "execution_count": 80,
   "id": "dffcf013",
   "metadata": {},
   "outputs": [
    {
     "name": "stdout",
     "output_type": "stream",
     "text": [
      "26.666666666666668\n"
     ]
    }
   ],
   "source": [
    "print(80/3)"
   ]
  },
  {
   "cell_type": "code",
   "execution_count": 1,
   "id": "e6b4c02b",
   "metadata": {},
   "outputs": [
    {
     "name": "stdout",
     "output_type": "stream",
     "text": [
      "23.333333333333332\n"
     ]
    }
   ],
   "source": [
    "a=10\n",
    "b=20\n",
    "c=40\n",
    "n=a+b+c\n",
    "print(n/3)"
   ]
  },
  {
   "cell_type": "code",
   "execution_count": 10,
   "id": "0d89a7b2",
   "metadata": {},
   "outputs": [
    {
     "name": "stdout",
     "output_type": "stream",
     "text": [
      "the given number is odd:\n"
     ]
    }
   ],
   "source": [
    "import random as r\n",
    "val=[1,2,3,4,5]\n",
    "while True:\n",
    "    #random=int(input(\"enter a number:\"))\n",
    "    if val==1:\n",
    "        print(\"the number is even:\" )\n",
    "    else:\n",
    "        print(\"the given number is odd:\")\n",
    "        break;\n",
    "        \n",
    "    break;\n",
    "        "
   ]
  },
  {
   "cell_type": "code",
   "execution_count": 21,
   "id": "053dd225",
   "metadata": {},
   "outputs": [
    {
     "data": {
      "text/plain": [
       "7"
      ]
     },
     "execution_count": 21,
     "metadata": {},
     "output_type": "execute_result"
    }
   ],
   "source": [
    "def add(a,b):\n",
    "    return a+b\n",
    "add(3,4)"
   ]
  },
  {
   "cell_type": "code",
   "execution_count": 22,
   "id": "79253603",
   "metadata": {},
   "outputs": [
    {
     "data": {
      "text/plain": [
       "'add'"
      ]
     },
     "execution_count": 22,
     "metadata": {},
     "output_type": "execute_result"
    }
   ],
   "source": [
    "add.__name__"
   ]
  },
  {
   "cell_type": "code",
   "execution_count": 23,
   "id": "bed914cf",
   "metadata": {},
   "outputs": [
    {
     "data": {
      "text/plain": [
       "'add'"
      ]
     },
     "execution_count": 23,
     "metadata": {},
     "output_type": "execute_result"
    }
   ],
   "source": [
    "add.__name__"
   ]
  },
  {
   "cell_type": "code",
   "execution_count": 24,
   "id": "d1b5dbf7",
   "metadata": {},
   "outputs": [
    {
     "name": "stdout",
     "output_type": "stream",
     "text": [
      "2\n"
     ]
    }
   ],
   "source": [
    "func=lambda x:x\n",
    "print(func(2))"
   ]
  },
  {
   "cell_type": "code",
   "execution_count": 25,
   "id": "f175c86d",
   "metadata": {},
   "outputs": [
    {
     "data": {
      "text/plain": [
       "16"
      ]
     },
     "execution_count": 25,
     "metadata": {},
     "output_type": "execute_result"
    }
   ],
   "source": [
    "func=lambda x,y,z:x*x-y+y*z\n",
    "func(2,3,5)"
   ]
  },
  {
   "cell_type": "code",
   "execution_count": 26,
   "id": "e4ca7531",
   "metadata": {},
   "outputs": [
    {
     "data": {
      "text/plain": [
       "15.0"
      ]
     },
     "execution_count": 26,
     "metadata": {},
     "output_type": "execute_result"
    }
   ],
   "source": [
    "(lambda x:(x+3)*5/2)(3)"
   ]
  },
  {
   "cell_type": "code",
   "execution_count": 39,
   "id": "7f4596a0",
   "metadata": {},
   "outputs": [
    {
     "data": {
      "text/plain": [
       "(16, 25)"
      ]
     },
     "execution_count": 39,
     "metadata": {},
     "output_type": "execute_result"
    }
   ],
   "source": [
    "def fun(x,y):\n",
    "    return x+x*x-x,y*y\n",
    "fun(4,5)"
   ]
  },
  {
   "cell_type": "code",
   "execution_count": 40,
   "id": "2e7fd2a2",
   "metadata": {},
   "outputs": [
    {
     "data": {
      "text/plain": [
       "25"
      ]
     },
     "execution_count": 40,
     "metadata": {},
     "output_type": "execute_result"
    }
   ],
   "source": [
    "fun=lambda x:x+x*x-x\n",
    "fun(5)"
   ]
  },
  {
   "cell_type": "code",
   "execution_count": null,
   "id": "dd2cc30d",
   "metadata": {},
   "outputs": [],
   "source": []
  },
  {
   "cell_type": "markdown",
   "id": "81e80dd6",
   "metadata": {},
   "source": [
    "# common function that use lambdas\n",
    "     1.map()\n",
    "     2.filtered()\n",
    "     3.map()\n",
    "        1.map()\n",
    "            *A standered function that accepts atleast two arguments,a function and iterable\n",
    "            *runs the lambda for each value in the iterable and returns a map object which can be converted into                    another data struction.\n",
    "            \n",
    "        \n",
    "           "
   ]
  },
  {
   "cell_type": "code",
   "execution_count": 41,
   "id": "8517b34d",
   "metadata": {},
   "outputs": [],
   "source": [
    " nums=[1,2,3,4,5]\n",
    "doubles=map(lambda x:x*2,nums)\n"
   ]
  },
  {
   "cell_type": "code",
   "execution_count": 42,
   "id": "c309ca75",
   "metadata": {},
   "outputs": [
    {
     "data": {
      "text/plain": [
       "<map at 0x24ffc582d60>"
      ]
     },
     "execution_count": 42,
     "metadata": {},
     "output_type": "execute_result"
    }
   ],
   "source": [
    "doubles"
   ]
  },
  {
   "cell_type": "code",
   "execution_count": 43,
   "id": "ab3dbdb0",
   "metadata": {},
   "outputs": [
    {
     "data": {
      "text/plain": [
       "[2, 4, 6, 8, 10]"
      ]
     },
     "execution_count": 43,
     "metadata": {},
     "output_type": "execute_result"
    }
   ],
   "source": [
    "list(doubles)"
   ]
  },
  {
   "cell_type": "code",
   "execution_count": 14,
   "id": "54c5b703",
   "metadata": {},
   "outputs": [],
   "source": [
    " nums=[1,2,3,4,5]\n",
    "doubles=map(lambda x:x**2,nums)"
   ]
  },
  {
   "cell_type": "code",
   "execution_count": 15,
   "id": "b1ee01d9",
   "metadata": {},
   "outputs": [
    {
     "name": "stdout",
     "output_type": "stream",
     "text": [
      "1\n",
      "4\n",
      "9\n",
      "16\n",
      "25\n"
     ]
    }
   ],
   "source": [
    "for n in doubles:\n",
    "    print(n)\n",
    "    "
   ]
  },
  {
   "cell_type": "code",
   "execution_count": 22,
   "id": "2749df7b",
   "metadata": {},
   "outputs": [
    {
     "name": "stdout",
     "output_type": "stream",
     "text": [
      "1\n",
      "4\n",
      "9\n",
      "16\n",
      "25\n"
     ]
    }
   ],
   "source": [
    "def fun(num):\n",
    "    double=map(lambda x:x**2,num)\n",
    "    for n in double:\n",
    "        print(n)\n",
    "fun([1,2,3,4,5])"
   ]
  },
  {
   "cell_type": "code",
   "execution_count": 55,
   "id": "f3b1c866",
   "metadata": {},
   "outputs": [
    {
     "name": "stdout",
     "output_type": "stream",
     "text": [
      "0 0\n",
      "2 2\n",
      "4 4\n",
      "6 6\n",
      "8 8\n"
     ]
    }
   ],
   "source": [
    "l=[0,1,2,3,4,5,6,7,8,9,10,11,12,14,15,16,17,18,19,20]\n",
    "for i,j in  zip(range(0,20,2),range(-20,-11,2)):\n",
    "    print(l[i],l[j])#,end=\" \")\n"
   ]
  },
  {
   "cell_type": "code",
   "execution_count": 51,
   "id": "5aa6f9e3",
   "metadata": {},
   "outputs": [
    {
     "name": "stdout",
     "output_type": "stream",
     "text": [
      "0 10\n",
      "2 11\n",
      "4 12\n",
      "6 14\n",
      "8 15\n",
      "10 16\n",
      "12 17\n",
      "15 18\n",
      "17 19\n",
      "19 20\n"
     ]
    }
   ],
   "source": [
    "l=[0,1,2,3,4,5,6,7,8,9,10,11,12,14,15,16,17,18,19,20]\n",
    "for i,j in zip(range(0,20,2),range(-10,0)):\n",
    "    print(l[i],l[j])"
   ]
  },
  {
   "cell_type": "markdown",
   "id": "8be1044e",
   "metadata": {},
   "source": [
    "# list comprehensions \n",
    "     # A list comprehension is a syntactic construct available programming laguage\n",
    "     # For creating a list based on existing tags\n",
    "     #comprehension are not only belonging of list ,we use dictionary and list ,sets. not in tuple becuasetuple is immutable."
   ]
  },
  {
   "cell_type": "markdown",
   "id": "a67d1cce",
   "metadata": {},
   "source": [
    "###syntax \n",
    "###[item for item in iterable]"
   ]
  },
  {
   "cell_type": "code",
   "execution_count": 23,
   "id": "e2e287b5",
   "metadata": {},
   "outputs": [
    {
     "data": {
      "text/plain": [
       "[15, 30, 30, 45, 75, 105, 120, 150]"
      ]
     },
     "execution_count": 23,
     "metadata": {},
     "output_type": "execute_result"
    }
   ],
   "source": [
    "nums=[1,2,2,3,5,7,8,10]\n",
    "[i*15 for i in nums]# nums variables are alternaive to satisfy the i*15"
   ]
  },
  {
   "cell_type": "code",
   "execution_count": 24,
   "id": "23191c5b",
   "metadata": {},
   "outputs": [
    {
     "data": {
      "text/plain": [
       "[32, 32, 38, 40]"
      ]
     },
     "execution_count": 24,
     "metadata": {},
     "output_type": "execute_result"
    }
   ],
   "source": [
    "[i+30 for i in nums if i%2==0]# it automatic to take the nums list ,first it satisfy the for loop after that check the\n",
    "                               #condition i%2==0 it satisfy then it execute the i+30 in list each element sastify."
   ]
  },
  {
   "cell_type": "code",
   "execution_count": 25,
   "id": "b0812490",
   "metadata": {},
   "outputs": [
    {
     "data": {
      "text/plain": [
       "[16, 1.0, 1.0, 1.5, 2.5, 3.5, 4.0, 5.0]"
      ]
     },
     "execution_count": 25,
     "metadata": {},
     "output_type": "execute_result"
    }
   ],
   "source": [
    "[i+15 if i*2==2 else i/2 for i in nums]# here we use the if and else condision first we check the for loop ofter that \n",
    "                                    #we go if and else part if condition satisfy then then it will store after that get\n",
    "                                    #o/p if conndition fale we will go else part."
   ]
  },
  {
   "cell_type": "code",
   "execution_count": 26,
   "id": "b4124525",
   "metadata": {},
   "outputs": [
    {
     "name": "stdout",
     "output_type": "stream",
     "text": [
      "[1, 12167, 13824, 15625, 17576, 19683]\n",
      "19683\n"
     ]
    }
   ],
   "source": [
    "sample=[1,23,24,25,26,27]# here we use for loop,here we write code high,but list comprehension we use single code line\n",
    "s=[]\n",
    "for i in sample:\n",
    "    i=i**3\n",
    "    s.append(i)\n",
    "print(s)\n",
    "print(i)"
   ]
  },
  {
   "cell_type": "code",
   "execution_count": 59,
   "id": "9e437b75",
   "metadata": {},
   "outputs": [
    {
     "data": {
      "text/plain": [
       "[12167, 13824, 15625, 17576, 19683]"
      ]
     },
     "execution_count": 59,
     "metadata": {},
     "output_type": "execute_result"
    }
   ],
   "source": [
    "samples=[23,24+,25,26,27]#samples=[98,97,96,95,94,93]\n",
    "[i**3 for i in samples]#[i**3 for i in sample]"
   ]
  },
  {
   "cell_type": "code",
   "execution_count": 61,
   "id": "ff0cff5f",
   "metadata": {},
   "outputs": [
    {
     "data": {
      "text/plain": [
       "['h',\n",
       " 'i',\n",
       " 'i',\n",
       " 'p',\n",
       " 'a',\n",
       " 'd',\n",
       " 'h',\n",
       " 'u',\n",
       " 'A',\n",
       " 'c',\n",
       " 'h',\n",
       " 'a',\n",
       " 'n',\n",
       " 'd',\n",
       " 'h',\n",
       " 'u']"
      ]
     },
     "execution_count": 61,
     "metadata": {},
     "output_type": "execute_result"
    }
   ],
   "source": [
    "name=\"hiipadhuAchandhu\"\n",
    "[char for char in name]"
   ]
  },
  {
   "cell_type": "code",
   "execution_count": 62,
   "id": "467b90ee",
   "metadata": {},
   "outputs": [
    {
     "data": {
      "text/plain": [
       "['H', 'I', 'I', 'P', 'A', 'D', 'H', 'U', 'C', 'H', 'A', 'N', 'D', 'H', 'U']"
      ]
     },
     "execution_count": 62,
     "metadata": {},
     "output_type": "execute_result"
    }
   ],
   "source": [
    "name=\"hiipadhuchandhu\"\n",
    "[char.upper() for char in name]    #[char.lower() for char in name]"
   ]
  },
  {
   "cell_type": "code",
   "execution_count": 7,
   "id": "cd188578",
   "metadata": {},
   "outputs": [
    {
     "data": {
      "text/plain": [
       "['index45', 'index46', 'index47', 'index48']"
      ]
     },
     "execution_count": 7,
     "metadata": {},
     "output_type": "execute_result"
    }
   ],
   "source": [
    "num=[45,46,47,48]\n",
    "[\"index\"+str(n) for n in num]"
   ]
  },
  {
   "cell_type": "code",
   "execution_count": 8,
   "id": "2811e26d",
   "metadata": {},
   "outputs": [],
   "source": [
    "nums=[1,2,3,4,5,6]\n",
    "#evens=[n for n in nums if i%2==0]    #here don't use \"n\" \n",
    "evens=[i for i in nums if i%2==0]"
   ]
  },
  {
   "cell_type": "code",
   "execution_count": 9,
   "id": "73b0b255",
   "metadata": {},
   "outputs": [
    {
     "name": "stdout",
     "output_type": "stream",
     "text": [
      "[2, 4, 6]\n"
     ]
    }
   ],
   "source": [
    "print(evens)"
   ]
  },
  {
   "cell_type": "code",
   "execution_count": 10,
   "id": "c88eceac",
   "metadata": {},
   "outputs": [
    {
     "data": {
      "text/plain": [
       "[2, 4, 6]"
      ]
     },
     "execution_count": 10,
     "metadata": {},
     "output_type": "execute_result"
    }
   ],
   "source": [
    "njk=[1,2,3,4,5,6]\n",
    "[i for i in njk if i%2==0]   #here we use only \"i\""
   ]
  },
  {
   "cell_type": "code",
   "execution_count": 11,
   "id": "9914eb2f",
   "metadata": {},
   "outputs": [
    {
     "data": {
      "text/plain": [
       "[78, 36, 24]"
      ]
     },
     "execution_count": 11,
     "metadata": {},
     "output_type": "execute_result"
    }
   ],
   "source": [
    "text=[78,36,24,9]\n",
    "[i for i in text if i%2==0]"
   ]
  },
  {
   "cell_type": "code",
   "execution_count": 12,
   "id": "39abdc7e",
   "metadata": {},
   "outputs": [
    {
     "data": {
      "text/plain": [
       "'n t t n d s m h l p t h l p t h t h r s'"
      ]
     },
     "execution_count": 12,
     "metadata": {},
     "output_type": "execute_result"
    }
   ],
   "source": [
    "mystr=\"i want to need some help. to help the others\"\n",
    "' '.join(chars for chars in mystr if chars not in \".waeiou \")#here the print only consonants in string"
   ]
  },
  {
   "cell_type": "code",
   "execution_count": 2,
   "id": "52f3dd56",
   "metadata": {},
   "outputs": [
    {
     "name": "stdout",
     "output_type": "stream",
     "text": [
      "d_a_t_a_ _S_c_i_e_n_c_e\n"
     ]
    }
   ],
   "source": [
    "string=\"data Science\"\n",
    "str='_'.join(string)\n",
    "print(str)"
   ]
  },
  {
   "cell_type": "code",
   "execution_count": 3,
   "id": "2f4b5d11",
   "metadata": {},
   "outputs": [
    {
     "data": {
      "text/plain": [
       "[' ',\n",
       " 'w',\n",
       " 'n',\n",
       " 't',\n",
       " ' ',\n",
       " 't',\n",
       " ' ',\n",
       " 'n',\n",
       " 'd',\n",
       " ' ',\n",
       " 's',\n",
       " 'm',\n",
       " ' ',\n",
       " 'h',\n",
       " 'l',\n",
       " 'p',\n",
       " '.',\n",
       " ' ',\n",
       " 't',\n",
       " ' ',\n",
       " 'h',\n",
       " 'l',\n",
       " 'p',\n",
       " ' ',\n",
       " 't',\n",
       " 'h',\n",
       " ' ',\n",
       " 't',\n",
       " 'h',\n",
       " 'r',\n",
       " 's']"
      ]
     },
     "execution_count": 3,
     "metadata": {},
     "output_type": "execute_result"
    }
   ],
   "source": [
    "mystr=\"i want to need some help. to help the others\"\n",
    "[char for char in mystr if char not in \"aeiou\"]# here we consider the space also.\n",
    "\n",
    "#here print only consonants print in list"
   ]
  },
  {
   "cell_type": "code",
   "execution_count": 5,
   "id": "d476dfbe",
   "metadata": {},
   "outputs": [
    {
     "data": {
      "text/plain": [
       "['e', 'o', 'u', 'e', 'e', 'a', 'e', 'o', 'u']"
      ]
     },
     "execution_count": 5,
     "metadata": {},
     "output_type": "execute_result"
    }
   ],
   "source": [
    "text=\"heyyy youwhere are you \"\n",
    "[char for char in text if char  in \"aeiou\"]"
   ]
  },
  {
   "cell_type": "markdown",
   "id": "6c787c80",
   "metadata": {},
   "source": [
    "# nested lists\n",
    "#list can contain any kind of element,even other lists"
   ]
  },
  {
   "cell_type": "code",
   "execution_count": 6,
   "id": "cd694e0e",
   "metadata": {},
   "outputs": [],
   "source": [
    "nestedList=[[1,2],[2,3],[3,4]]"
   ]
  },
  {
   "cell_type": "code",
   "execution_count": 7,
   "id": "ddaa87e2",
   "metadata": {},
   "outputs": [
    {
     "data": {
      "text/plain": [
       "[[1, 2], [2, 3], [3, 4]]"
      ]
     },
     "execution_count": 7,
     "metadata": {},
     "output_type": "execute_result"
    }
   ],
   "source": [
    "nestedList"
   ]
  },
  {
   "cell_type": "markdown",
   "id": "2f0945eb",
   "metadata": {},
   "source": [
    "# accessing nested lists"
   ]
  },
  {
   "cell_type": "code",
   "execution_count": 2,
   "id": "b5bd9abe",
   "metadata": {},
   "outputs": [],
   "source": [
    "nestedlist=[[1,2,3],[3,4,5],[5,6,7],[7,8,9]]#0th one is [1,2,3],2nd 0ne is[3,4,5]..so on"
   ]
  },
  {
   "cell_type": "code",
   "execution_count": 3,
   "id": "a4d091af",
   "metadata": {},
   "outputs": [
    {
     "data": {
      "text/plain": [
       "[3, 4, 5]"
      ]
     },
     "execution_count": 3,
     "metadata": {},
     "output_type": "execute_result"
    }
   ],
   "source": [
    "nestedlist[1]# index of one is [3,4,5]"
   ]
  },
  {
   "cell_type": "code",
   "execution_count": 4,
   "id": "b3bdc968",
   "metadata": {},
   "outputs": [
    {
     "data": {
      "text/plain": [
       "7"
      ]
     },
     "execution_count": 4,
     "metadata": {},
     "output_type": "execute_result"
    }
   ],
   "source": [
    "nestedlist[2][2]# index of 2 is [5,6,7] its also 0th element is 5,1st elm is 6,2nd is 7"
   ]
  },
  {
   "cell_type": "code",
   "execution_count": 5,
   "id": "25de1306",
   "metadata": {},
   "outputs": [],
   "source": [
    "nestedlist=[[45,54],[0,2],[67,78],[78,45]]\n",
    "           # 0[o,1]  1[0,1]   2[0,1]    3[0,1] forward direction\n",
    "           # -4[[0,1]] -3[0,1] -2[0,1] -1[0,1]"
   ]
  },
  {
   "cell_type": "code",
   "execution_count": 6,
   "id": "2029fcb2",
   "metadata": {},
   "outputs": [
    {
     "data": {
      "text/plain": [
       "67"
      ]
     },
     "execution_count": 6,
     "metadata": {},
     "output_type": "execute_result"
    }
   ],
   "source": [
    "nestedlist[-2][-0]# here reverse is started in -1."
   ]
  },
  {
   "cell_type": "code",
   "execution_count": 7,
   "id": "573020b8",
   "metadata": {},
   "outputs": [
    {
     "data": {
      "text/plain": [
       "45"
      ]
     },
     "execution_count": 7,
     "metadata": {},
     "output_type": "execute_result"
    }
   ],
   "source": [
    "nestedlist[-1][1]  # the nested list execute more times"
   ]
  },
  {
   "cell_type": "code",
   "execution_count": 8,
   "id": "5dc2bbb1",
   "metadata": {},
   "outputs": [
    {
     "data": {
      "text/plain": [
       "[0, 2]"
      ]
     },
     "execution_count": 8,
     "metadata": {},
     "output_type": "execute_result"
    }
   ],
   "source": [
    "nestedlist[1]"
   ]
  },
  {
   "cell_type": "code",
   "execution_count": 9,
   "id": "fb13b24c",
   "metadata": {},
   "outputs": [
    {
     "data": {
      "text/plain": [
       "[45, 54]"
      ]
     },
     "execution_count": 9,
     "metadata": {},
     "output_type": "execute_result"
    }
   ],
   "source": [
    "nestedlist[0]"
   ]
  },
  {
   "cell_type": "code",
   "execution_count": 10,
   "id": "b4f14ab8",
   "metadata": {},
   "outputs": [
    {
     "data": {
      "text/plain": [
       "[78, 45]"
      ]
     },
     "execution_count": 10,
     "metadata": {},
     "output_type": "execute_result"
    }
   ],
   "source": [
    "nestedlist[-1]"
   ]
  },
  {
   "cell_type": "code",
   "execution_count": 11,
   "id": "5e3737a8",
   "metadata": {},
   "outputs": [
    {
     "name": "stdout",
     "output_type": "stream",
     "text": [
      "45\n",
      "54\n",
      "0\n",
      "2\n",
      "67\n",
      "78\n",
      "78\n",
      "45\n"
     ]
    }
   ],
   "source": [
    "# here printitng values in nested list\n",
    "for list in nestedlist:\n",
    "    for item in list:\n",
    "        print(item)"
   ]
  },
  {
   "cell_type": "code",
   "execution_count": 14,
   "id": "d6c4e11a",
   "metadata": {},
   "outputs": [
    {
     "name": "stdout",
     "output_type": "stream",
     "text": [
      "[[45, 54], [0, 2], [67, 78]]\n"
     ]
    }
   ],
   "source": [
    "for i in nestedlist:\n",
    "    print(nestedlist[:3])#here \"starting value:end value but not end value execute i.e n-1\"\n",
    "    break;"
   ]
  },
  {
   "cell_type": "code",
   "execution_count": 15,
   "id": "7c910ac4",
   "metadata": {},
   "outputs": [
    {
     "name": "stdout",
     "output_type": "stream",
     "text": [
      "[[78, 45]]\n"
     ]
    }
   ],
   "source": [
    "for i in nestedlist:\n",
    "    print(nestedlist[-1:4:2][0:2:1])#here \"starting value:end value:difference\"\n",
    "    break;                  # nestedlist=[[45,54],[0,2],[67,78],[78,45]]\n",
    "   "
   ]
  },
  {
   "cell_type": "code",
   "execution_count": 16,
   "id": "7091d2fc",
   "metadata": {},
   "outputs": [],
   "source": [
    "lists=[[1,2,3,4,5],[0,2,3,23,23],[45,26,24,13,12],[3,4,5,6,7],[7,6,8,45,67],[23,4,5,67,8]]\n"
   ]
  },
  {
   "cell_type": "code",
   "execution_count": 21,
   "id": "38da3e18",
   "metadata": {},
   "outputs": [
    {
     "data": {
      "text/plain": [
       "[[1, 2, 3, 4, 5],\n",
       " [0, 2, 3, 23, 23],\n",
       " [45, 26, 24, 13, 12],\n",
       " [3, 4, 5, 6, 7],\n",
       " [7, 6, 8, 45, 67],\n",
       " [23, 4, 5, 67, 8]]"
      ]
     },
     "execution_count": 21,
     "metadata": {},
     "output_type": "execute_result"
    }
   ],
   "source": [
    "#[[ele for ele in list]for list in lists]\n",
    "[i for i in lists]"
   ]
  },
  {
   "cell_type": "code",
   "execution_count": 22,
   "id": "7c8a8782",
   "metadata": {},
   "outputs": [],
   "source": [
    "bord=[[num for num in range(1,4)]for value in range(1,4)]"
   ]
  },
  {
   "cell_type": "code",
   "execution_count": 23,
   "id": "8030ba0c",
   "metadata": {},
   "outputs": [
    {
     "data": {
      "text/plain": [
       "[[1, 2, 3], [1, 2, 3], [1, 2, 3]]"
      ]
     },
     "execution_count": 23,
     "metadata": {},
     "output_type": "execute_result"
    }
   ],
   "source": [
    "bord"
   ]
  },
  {
   "cell_type": "code",
   "execution_count": 24,
   "id": "619a2186",
   "metadata": {},
   "outputs": [
    {
     "data": {
      "text/plain": [
       "[[1, 2, 3], [1, 2, 3], [1, 2, 3], [1, 2, 3], [1, 2, 3], [1, 2, 3], [1, 2, 3]]"
      ]
     },
     "execution_count": 24,
     "metadata": {},
     "output_type": "execute_result"
    }
   ],
   "source": [
    "[[i for i in range(1,4)]for num in range(1,8)]#here 1 to 8(i.e n-1=8-1) iteration are.first check the outer for loop\n",
    "                                          #first we take one that one going to inner for loop(\"i for in range(1,4)\")\n",
    "                                        #that execute 1,2,3.after thAT we go to range(1,8)we take 2 ...... this process\n",
    "                                        #execute until the range is satisfy(\"(1,8)\")"
   ]
  },
  {
   "cell_type": "code",
   "execution_count": 25,
   "id": "fda97c17",
   "metadata": {},
   "outputs": [
    {
     "data": {
      "text/plain": [
       "[['0', 'x', '0', 'x'], ['0', 'x', '0', 'x']]"
      ]
     },
     "execution_count": 25,
     "metadata": {},
     "output_type": "execute_result"
    }
   ],
   "source": [
    "[[\"x\" if num%2==0 else \"0\"for num in range(1,5)]for value in range(1,3)] #TIK TOK TOE GAME \n",
    "#for value in range(1,3) - this only iteration,i want only two inner iterations (3-1)\n",
    "#for num in range(1,5)-here value store,that one value  is even then execute \"x\" otherwise \"0\""
   ]
  },
  {
   "cell_type": "code",
   "execution_count": 26,
   "id": "e6a0d063",
   "metadata": {},
   "outputs": [
    {
     "data": {
      "text/plain": [
       "['@', '@']"
      ]
     },
     "execution_count": 26,
     "metadata": {},
     "output_type": "execute_result"
    }
   ],
   "source": [
    "[\"@\" for i in range(0,2)]#normal list"
   ]
  },
  {
   "cell_type": "code",
   "execution_count": 27,
   "id": "94b0be31",
   "metadata": {},
   "outputs": [
    {
     "data": {
      "text/plain": [
       "[['*'], ['*'], ['*'], ['*']]"
      ]
     },
     "execution_count": 27,
     "metadata": {},
     "output_type": "execute_result"
    }
   ],
   "source": [
    "[[\"*\"]for i in range(1,5)]#nested list"
   ]
  },
  {
   "cell_type": "code",
   "execution_count": null,
   "id": "f992ec58",
   "metadata": {},
   "outputs": [],
   "source": [
    "[[[\"siri\"],[\"sri\"]] for i in range(1)]"
   ]
  },
  {
   "cell_type": "code",
   "execution_count": null,
   "id": "74453391",
   "metadata": {},
   "outputs": [],
   "source": [
    "[[\"*\" for i in [1,2,3]]for i in range(1,5)]"
   ]
  },
  {
   "cell_type": "code",
   "execution_count": 29,
   "id": "2bc175ae",
   "metadata": {},
   "outputs": [
    {
     "data": {
      "text/plain": [
       "[['&', '&', '&'], ['&', '&', '&'], ['&', '&', '&']]"
      ]
     },
     "execution_count": 29,
     "metadata": {},
     "output_type": "execute_result"
    }
   ],
   "source": [
    "[[\"&\"for i in range(3)]for i in range(5,8)]#here we can take also range(1,4)or range(5,8),it only iterations like[][][]"
   ]
  },
  {
   "cell_type": "code",
   "execution_count": 28,
   "id": "9a2062c7",
   "metadata": {},
   "outputs": [
    {
     "name": "stdout",
     "output_type": "stream",
     "text": [
      "{'machinlerning programming', 'python', 'statistics'}\n"
     ]
    }
   ],
   "source": [
    "set1=set([\"python\",\"machinlerning programming\",\"statistics\" ])#here set is the keyword.To print dictionary formate only\n",
    "print(set1)                                                  # set is used to tuple in list i.e set([  ])={ }"
   ]
  },
  {
   "cell_type": "code",
   "execution_count": 1,
   "id": "b9f683bc",
   "metadata": {},
   "outputs": [
    {
     "name": "stdout",
     "output_type": "stream",
     "text": [
      "{1: 'monday', 2: 'tuesday', 3: 'wednesday', 4: 'thursday', 5: 'friday', 6: 'saturday'}\n"
     ]
    }
   ],
   "source": [
    "dic1={1:\"monday\",2:\"tuesday\",3:\"wednesday\",4:\"thursday\",5:\"friday\",6:\"saturday\"}\n",
    "print(dic1)"
   ]
  },
  {
   "cell_type": "markdown",
   "id": "561061c7",
   "metadata": {},
   "source": [
    "### # #print(\"sales%10s,total%10.3f\"%(\"1332\",4.34543))#print style formate of data\n",
    " ### #%10s>1332"
   ]
  },
  {
   "cell_type": "code",
   "execution_count": 2,
   "id": "7c518d8f",
   "metadata": {},
   "outputs": [
    {
     "name": "stdout",
     "output_type": "stream",
     "text": [
      "(10, 20, 30, 40, 50, 60)\n",
      "t[0]=10\n",
      "t[1]=20\n",
      "t[2]=30\n",
      "t[3]=40\n",
      "t[4]=50\n",
      "t[5]=60\n"
     ]
    }
   ],
   "source": [
    "t=(10,20,30,40,50,60)\n",
    "print(t)\n",
    "count=0\n",
    "for i in t:\n",
    "    print(\"t[%d]=%d\"%(count,i))\n",
    "    count=count+1\n",
    "    # print(\"t[%d]=%d\"%(count,i))"
   ]
  },
  {
   "cell_type": "code",
   "execution_count": 6,
   "id": "98e16dfd",
   "metadata": {},
   "outputs": [
    {
     "name": "stdout",
     "output_type": "stream",
     "text": [
      "{'name:': ['siri', 'sri', 'shruthi'], 'grade:': [40, 50, 60], 'year:': [1999, 2000, 1998]}\n",
      "name:\n",
      "grade:\n",
      "year:\n"
     ]
    }
   ],
   "source": [
    "text={\"name:\":[\"siri\",\"sri\",\"shruthi\"],\"grade:\":[40,50,60],\"year:\":[1999,2000,1998]}\n",
    "print(text)\n",
    "#for name in text:\n",
    " #   print(name[1:2:2])\n",
    "for i in text:\n",
    "    print(i)"
   ]
  },
  {
   "cell_type": "code",
   "execution_count": 5,
   "id": "8b42a6d0",
   "metadata": {},
   "outputs": [
    {
     "name": "stdout",
     "output_type": "stream",
     "text": [
      "============================================================\n",
      "{'d[a]:1', 'd[b]:2', 'd[d]:4', 'd[c]:3'}\n"
     ]
    }
   ],
   "source": [
    "#second question example\n",
    "s=['a','b','c','d']\n",
    "l=[1,2,3,4]\n",
    "#print({print(\"d[%s]:%d\"%(each,one)for each,one in zip(s,l))})\n",
    "print(\"============================================================\")\n",
    "print({\"d[%s]:%d\"%(each,one)for each,one in zip(s,l)})"
   ]
  },
  {
   "cell_type": "code",
   "execution_count": 7,
   "id": "9903be29",
   "metadata": {},
   "outputs": [
    {
     "name": "stdout",
     "output_type": "stream",
     "text": [
      "{'d[4]:89', 'd[2]:85', 'd[1]:45', 'd[3]:43'}\n"
     ]
    }
   ],
   "source": [
    "#second question example\n",
    "s=['1','2','3','4']\n",
    "l=[45,85,43,89]\n",
    "print({\"d[%s]:%d\"%(each,one)for each,one in zip(s,l)})"
   ]
  },
  {
   "cell_type": "code",
   "execution_count": 8,
   "id": "d526d5de",
   "metadata": {},
   "outputs": [
    {
     "name": "stdout",
     "output_type": "stream",
     "text": [
      "<built-in function print>\n"
     ]
    }
   ],
   "source": [
    "print(print)"
   ]
  },
  {
   "cell_type": "code",
   "execution_count": 9,
   "id": "8e9f45c1",
   "metadata": {},
   "outputs": [
    {
     "name": "stdout",
     "output_type": "stream",
     "text": [
      "a list:[1, 2, 3, 4, 5]\n"
     ]
    }
   ],
   "source": [
    "mysite=[1,2,3,4,5]\n",
    "print(\"a list:%s\"%mysite)"
   ]
  },
  {
   "cell_type": "code",
   "execution_count": 10,
   "id": "7a1feb3a",
   "metadata": {},
   "outputs": [
    {
     "name": "stdout",
     "output_type": "stream",
     "text": [
      "hello,shruthi!\n"
     ]
    }
   ],
   "source": [
    "name=\"shruthi\"\n",
    "print(\"hello,%s!\"%name)"
   ]
  },
  {
   "cell_type": "code",
   "execution_count": 11,
   "id": "220edd33",
   "metadata": {},
   "outputs": [
    {
     "name": "stdout",
     "output_type": "stream",
     "text": [
      "are u shirisha!\n"
     ]
    }
   ],
   "source": [
    "name=\"shirisha\"\n",
    "print(\"are u %s!\"%name)"
   ]
  },
  {
   "cell_type": "code",
   "execution_count": 12,
   "id": "990f4dcd",
   "metadata": {},
   "outputs": [
    {
     "name": "stdout",
     "output_type": "stream",
     "text": [
      "python is 22 year old.\n"
     ]
    }
   ],
   "source": [
    "name=\"python\"\n",
    "age=22\n",
    "print(\"%s is %d year old.\"%(name,age))"
   ]
  },
  {
   "cell_type": "code",
   "execution_count": 13,
   "id": "f4434be6",
   "metadata": {},
   "outputs": [
    {
     "name": "stdout",
     "output_type": "stream",
     "text": [
      "python started in 1991, hey john was 78 old.\n"
     ]
    }
   ],
   "source": [
    "text=\"python started in 1991,\"\n",
    "sam=\"john\"\n",
    "age=78\n",
    "print(\"%s hey %s was %d old.\"%(text,sam,age))"
   ]
  },
  {
   "cell_type": "code",
   "execution_count": 13,
   "id": "4db735e6",
   "metadata": {},
   "outputs": [
    {
     "name": "stdout",
     "output_type": "stream",
     "text": [
      "hello\n",
      "{'__name__': '__main__', '__doc__': 'Automatically created module for IPython interactive environment', '__package__': None, '__loader__': None, '__spec__': None, '__builtin__': <module 'builtins' (built-in)>, '__builtins__': <module 'builtins' (built-in)>, '_ih': ['', 'name=\"shruthi\"\\nprint(\"hello,%s!\"%name)', 'name=\"shirisha\"\\nprint(\"are u %s!\"%name)', 'name=\"shruthi\"\\nprint(\"hello,%s!\"%name)', 'name=\"shirisha\"\\nprint(\"are u %s!\"%name)', 'name=\"python\"\\nage=22\\nprint(\"%s is %d year old.\"%(name,age))', 'text=\"python started in 1991\"\\nsam=\"hiii john\"\\nage=78\\nprint(\"%s it %s was %d oid year.\"%(text,sam,age))', 'data=([\"john\",\"doe\"])\\nformat_string=\"hello\"\\nprint(format_string %data)  #error,not all arguements converted into string;tuple is immutable object so cannot be \\nprint(globals())                            #convertable into string value', 'text=\"python started in 1991,\"\\nsam=\"john\"\\nage=78\\nprint(\"%s hey %s was %d oid year.\"%(text,sam,age))', 'text=\"python started in 1991,\"\\nsam=\"john\"\\nage=78\\nprint(\"%s hey %s was %d old year.\"%(text,sam,age))', 'text=\"python started in 1991,\"\\nsam=\"john\"\\nage=78\\nprint(\"%s hey %s was %d old .\"%(text,sam,age))', 'text=\"python started in 1991,\"\\nsam=\"john\"\\nage=78\\nprint(\"%s hey %s was %d old.\"%(text,sam,age))', 'text=\"python started in 1991,\"\\nsam=\"john\"\\nage=78\\nprint(\"%s hey %s was %d old.\"%(text,sam,age))', 'data=([\"john\",\"doe\"])\\nformat_string=\"hello\"\\nprint(format_string %data)  #error,not all arguements converted into string;tuple is immutable object so cannot be \\nprint(globals())                            #convertable into string value'], '_oh': {}, '_dh': ['C:\\\\Users\\\\Admin\\\\sirisha'], 'In': ['', 'name=\"shruthi\"\\nprint(\"hello,%s!\"%name)', 'name=\"shirisha\"\\nprint(\"are u %s!\"%name)', 'name=\"shruthi\"\\nprint(\"hello,%s!\"%name)', 'name=\"shirisha\"\\nprint(\"are u %s!\"%name)', 'name=\"python\"\\nage=22\\nprint(\"%s is %d year old.\"%(name,age))', 'text=\"python started in 1991\"\\nsam=\"hiii john\"\\nage=78\\nprint(\"%s it %s was %d oid year.\"%(text,sam,age))', 'data=([\"john\",\"doe\"])\\nformat_string=\"hello\"\\nprint(format_string %data)  #error,not all arguements converted into string;tuple is immutable object so cannot be \\nprint(globals())                            #convertable into string value', 'text=\"python started in 1991,\"\\nsam=\"john\"\\nage=78\\nprint(\"%s hey %s was %d oid year.\"%(text,sam,age))', 'text=\"python started in 1991,\"\\nsam=\"john\"\\nage=78\\nprint(\"%s hey %s was %d old year.\"%(text,sam,age))', 'text=\"python started in 1991,\"\\nsam=\"john\"\\nage=78\\nprint(\"%s hey %s was %d old .\"%(text,sam,age))', 'text=\"python started in 1991,\"\\nsam=\"john\"\\nage=78\\nprint(\"%s hey %s was %d old.\"%(text,sam,age))', 'text=\"python started in 1991,\"\\nsam=\"john\"\\nage=78\\nprint(\"%s hey %s was %d old.\"%(text,sam,age))', 'data=([\"john\",\"doe\"])\\nformat_string=\"hello\"\\nprint(format_string %data)  #error,not all arguements converted into string;tuple is immutable object so cannot be \\nprint(globals())                            #convertable into string value'], 'Out': {}, 'get_ipython': <bound method InteractiveShell.get_ipython of <ipykernel.zmqshell.ZMQInteractiveShell object at 0x000002018C4B7580>>, 'exit': <IPython.core.autocall.ZMQExitAutocall object at 0x000002018C5177C0>, 'quit': <IPython.core.autocall.ZMQExitAutocall object at 0x000002018C5177C0>, '_': '', '__': '', '___': '', '_i': 'text=\"python started in 1991,\"\\nsam=\"john\"\\nage=78\\nprint(\"%s hey %s was %d old.\"%(text,sam,age))', '_ii': 'text=\"python started in 1991,\"\\nsam=\"john\"\\nage=78\\nprint(\"%s hey %s was %d old.\"%(text,sam,age))', '_iii': 'text=\"python started in 1991,\"\\nsam=\"john\"\\nage=78\\nprint(\"%s hey %s was %d old .\"%(text,sam,age))', '_i1': 'name=\"shruthi\"\\nprint(\"hello,%s!\"%name)', 'name': 'python', '_i2': 'name=\"shirisha\"\\nprint(\"are u %s!\"%name)', '_i3': 'name=\"shruthi\"\\nprint(\"hello,%s!\"%name)', '_i4': 'name=\"shirisha\"\\nprint(\"are u %s!\"%name)', '_i5': 'name=\"python\"\\nage=22\\nprint(\"%s is %d year old.\"%(name,age))', 'age': 78, '_i6': 'text=\"python started in 1991\"\\nsam=\"hiii john\"\\nage=78\\nprint(\"%s it %s was %d oid year.\"%(text,sam,age))', 'text': 'python started in 1991,', 'sam': 'john', '_i7': 'data=([\"john\",\"doe\"])\\nformat_string=\"hello\"\\nprint(format_string %data)  #error,not all arguements converted into string;tuple is immutable object so cannot be \\nprint(globals())                            #convertable into string value', 'data': ['john', 'doe'], 'format_string': 'hello', '_i8': 'text=\"python started in 1991,\"\\nsam=\"john\"\\nage=78\\nprint(\"%s hey %s was %d oid year.\"%(text,sam,age))', '_i9': 'text=\"python started in 1991,\"\\nsam=\"john\"\\nage=78\\nprint(\"%s hey %s was %d old year.\"%(text,sam,age))', '_i10': 'text=\"python started in 1991,\"\\nsam=\"john\"\\nage=78\\nprint(\"%s hey %s was %d old .\"%(text,sam,age))', '_i11': 'text=\"python started in 1991,\"\\nsam=\"john\"\\nage=78\\nprint(\"%s hey %s was %d old.\"%(text,sam,age))', '_i12': 'text=\"python started in 1991,\"\\nsam=\"john\"\\nage=78\\nprint(\"%s hey %s was %d old.\"%(text,sam,age))', '_i13': 'data=([\"john\",\"doe\"])\\nformat_string=\"hello\"\\nprint(format_string %data)  #error,not all arguements converted into string;tuple is immutable object so cannot be \\nprint(globals())                            #convertable into string value'}\n"
     ]
    }
   ],
   "source": [
    "data=([\"john\",\"doe\"])\n",
    "format_string=\"hello\"\n",
    "print(format_string %data)  #error,not all arguements converted into string;tuple is immutable object so cannot be \n",
    "print(globals())                            #convertable into string value"
   ]
  },
  {
   "cell_type": "markdown",
   "id": "fcb737ea",
   "metadata": {},
   "source": [
    " # dictionaries"
   ]
  },
  {
   "cell_type": "code",
   "execution_count": 14,
   "id": "9b102d32",
   "metadata": {},
   "outputs": [],
   "source": [
    "person={\"name\":\"siri\",\n",
    "       \"age\":22,\n",
    "       \"ismarried\":\"no\",\n",
    "       \"height\":153}"
   ]
  },
  {
   "cell_type": "code",
   "execution_count": 15,
   "id": "5f62565a",
   "metadata": {},
   "outputs": [
    {
     "data": {
      "text/plain": [
       "{'name': 'siri', 'age': 22, 'ismarried': 'no', 'height': 153}"
      ]
     },
     "execution_count": 15,
     "metadata": {},
     "output_type": "execute_result"
    }
   ],
   "source": [
    "person"
   ]
  },
  {
   "cell_type": "code",
   "execution_count": 16,
   "id": "0fdc26eb",
   "metadata": {},
   "outputs": [
    {
     "name": "stdout",
     "output_type": "stream",
     "text": [
      "<class 'dict'>\n"
     ]
    }
   ],
   "source": [
    "print(type(person))#type() is define to dictionary,it also approach to dict"
   ]
  },
  {
   "cell_type": "code",
   "execution_count": 17,
   "id": "5c106247",
   "metadata": {},
   "outputs": [],
   "source": [
    "person=dict(name=\"sri\",age=25,address='india',ismarried=False,height=5.7,sallary=1200)"
   ]
  },
  {
   "cell_type": "code",
   "execution_count": 26,
   "id": "76b9817f",
   "metadata": {},
   "outputs": [
    {
     "data": {
      "text/plain": [
       "{'name': 'sri',\n",
       " 'age': 25,\n",
       " 'address': 'india',\n",
       " 'ismarried': False,\n",
       " 'height': 5.7,\n",
       " 'sallary': 1200}"
      ]
     },
     "execution_count": 26,
     "metadata": {},
     "output_type": "execute_result"
    }
   ],
   "source": [
    "person"
   ]
  },
  {
   "cell_type": "code",
   "execution_count": 18,
   "id": "5392bc7f",
   "metadata": {},
   "outputs": [
    {
     "data": {
      "text/plain": [
       "'sri'"
      ]
     },
     "execution_count": 18,
     "metadata": {},
     "output_type": "execute_result"
    }
   ],
   "source": [
    "person['name']"
   ]
  },
  {
   "cell_type": "code",
   "execution_count": 19,
   "id": "4c4ce349",
   "metadata": {},
   "outputs": [
    {
     "data": {
      "text/plain": [
       "5.7"
      ]
     },
     "execution_count": 19,
     "metadata": {},
     "output_type": "execute_result"
    }
   ],
   "source": [
    "person['height']"
   ]
  },
  {
   "cell_type": "code",
   "execution_count": 20,
   "id": "92351efc",
   "metadata": {},
   "outputs": [
    {
     "data": {
      "text/plain": [
       "1200"
      ]
     },
     "execution_count": 20,
     "metadata": {},
     "output_type": "execute_result"
    }
   ],
   "source": [
    "person['sallary']"
   ]
  },
  {
   "cell_type": "code",
   "execution_count": 21,
   "id": "9300f449",
   "metadata": {},
   "outputs": [
    {
     "data": {
      "text/plain": [
       "dict_values(['sri', 25, 'india', False, 5.7, 1200])"
      ]
     },
     "execution_count": 21,
     "metadata": {},
     "output_type": "execute_result"
    }
   ],
   "source": [
    "person.values()"
   ]
  },
  {
   "cell_type": "code",
   "execution_count": 22,
   "id": "0ad0ed89",
   "metadata": {},
   "outputs": [
    {
     "name": "stdout",
     "output_type": "stream",
     "text": [
      "<class 'dict_values'>\n"
     ]
    }
   ],
   "source": [
    "print(type(person.values()))"
   ]
  },
  {
   "cell_type": "code",
   "execution_count": 23,
   "id": "53e97178",
   "metadata": {},
   "outputs": [
    {
     "data": {
      "text/plain": [
       "dict_keys(['name', 'age', 'address', 'ismarried', 'height', 'sallary'])"
      ]
     },
     "execution_count": 23,
     "metadata": {},
     "output_type": "execute_result"
    }
   ],
   "source": [
    "person.keys()"
   ]
  },
  {
   "cell_type": "code",
   "execution_count": 33,
   "id": "554a7bdc",
   "metadata": {},
   "outputs": [
    {
     "data": {
      "text/plain": [
       "dict_items([('name', 'sri'), ('age', 25), ('address', 'india'), ('ismarried', False), ('height', 5.7), ('sallary', 1200)])"
      ]
     },
     "execution_count": 33,
     "metadata": {},
     "output_type": "execute_result"
    }
   ],
   "source": [
    "person.items()#list of tuple,the key pair values are inform of tuple.the tuples are in list"
   ]
  },
  {
   "cell_type": "code",
   "execution_count": 34,
   "id": "244a30d3",
   "metadata": {},
   "outputs": [
    {
     "name": "stdout",
     "output_type": "stream",
     "text": [
      "sri\n",
      "25\n",
      "india\n",
      "False\n",
      "5.7\n",
      "1200\n"
     ]
    }
   ],
   "source": [
    "for values in person.values():\n",
    "    print(values)"
   ]
  },
  {
   "cell_type": "code",
   "execution_count": 35,
   "id": "f34f358c",
   "metadata": {},
   "outputs": [
    {
     "name": "stdout",
     "output_type": "stream",
     "text": [
      "name\n",
      "age\n",
      "address\n",
      "ismarried\n",
      "height\n",
      "sallary\n"
     ]
    }
   ],
   "source": [
    "for key in person.keys():\n",
    "    print(key)"
   ]
  },
  {
   "cell_type": "code",
   "execution_count": 36,
   "id": "c5a16025",
   "metadata": {},
   "outputs": [
    {
     "name": "stdout",
     "output_type": "stream",
     "text": [
      "('name', 'sri')\n",
      "('age', 25)\n",
      "('address', 'india')\n",
      "('ismarried', False)\n",
      "('height', 5.7)\n",
      "('sallary', 1200)\n"
     ]
    }
   ],
   "source": [
    "for item in person.items():\n",
    "    print(item)"
   ]
  },
  {
   "cell_type": "code",
   "execution_count": 50,
   "id": "4f71bddc",
   "metadata": {
    "scrolled": true
   },
   "outputs": [
    {
     "name": "stdout",
     "output_type": "stream",
     "text": [
      " (key pair values ): Value is ( value )\n"
     ]
    }
   ],
   "source": [
    "for key,value in person.items():\n",
    "    print(f\" (key pair values ): Value is ( value )\")\n",
    "    break;\n",
    "#print([person.items])"
   ]
  },
  {
   "cell_type": "code",
   "execution_count": 51,
   "id": "ee398448",
   "metadata": {},
   "outputs": [
    {
     "data": {
      "text/plain": [
       "True"
      ]
     },
     "execution_count": 51,
     "metadata": {},
     "output_type": "execute_result"
    }
   ],
   "source": [
    "\"name\" in person  #here we check the dictionary set ,in that set \"name\" key is available are not "
   ]
  },
  {
   "cell_type": "code",
   "execution_count": 52,
   "id": "922517ba",
   "metadata": {},
   "outputs": [
    {
     "data": {
      "text/plain": [
       "False"
      ]
     },
     "execution_count": 52,
     "metadata": {},
     "output_type": "execute_result"
    }
   ],
   "source": [
    "'weight' in person.keys()  # in dict set  \"weight\" keyword is not available then execute the false"
   ]
  },
  {
   "cell_type": "code",
   "execution_count": 65,
   "id": "1546c1dc",
   "metadata": {},
   "outputs": [],
   "source": [
    "import pandas as pd\n",
    "import numpy as np"
   ]
  },
  {
   "cell_type": "code",
   "execution_count": 84,
   "id": "33a71ca8",
   "metadata": {},
   "outputs": [
    {
     "name": "stdout",
     "output_type": "stream",
     "text": [
      "names\n",
      "grade\n",
      "year\n",
      "{'names': ['tom', 'tim', 'tin', 'tinku'], 'grade': [4, 4, 5, 6], 'year': [2021, 2022, 2023, 2024]}\n"
     ]
    }
   ],
   "source": [
    "# import pandas as pd\n",
    "# import numpy as np\n",
    "students={'names':['tom','tim','tin','tinku'],'grade':[4,4,5,6],'year':[2021,2022,2023,2024]}\n",
    "for row in student:\n",
    "    print(row)\n",
    "print(students)"
   ]
  },
  {
   "cell_type": "code",
   "execution_count": 106,
   "id": "87f3a131",
   "metadata": {},
   "outputs": [
    {
     "name": "stdout",
     "output_type": "stream",
     "text": [
      "enter the values54\n",
      "avarage marks\n"
     ]
    }
   ],
   "source": [
    "#def sample(marks):\n",
    "import random as r\n",
    "marks=int(input(\"enter the values\"))\n",
    "if(marks>=90):\n",
    "    print(\"exallent\")\n",
    "elif(marks<90and marks>=75):\n",
    "    print(\"very good\")\n",
    "elif(marks<75and marks>=60):\n",
    "    print(\"good \")\n",
    "else:\n",
    "    print(\"avarage marks\")\n",
    "#sample(34)"
   ]
  },
  {
   "cell_type": "code",
   "execution_count": 107,
   "id": "734432fb",
   "metadata": {},
   "outputs": [
    {
     "name": "stdout",
     "output_type": "stream",
     "text": [
      "haii hello happy new year wellcome to 2022 may this year brings everything in your life focus on your life only what u want nd whats impotant\n"
     ]
    }
   ],
   "source": [
    "print(\"haii hello happy new year wellcome to 2022\",\"may this year brings everything in your life\",\"focus on your life only what u want nd whats impotant\")"
   ]
  },
  {
   "cell_type": "code",
   "execution_count": 111,
   "id": "4b31e4aa",
   "metadata": {},
   "outputs": [
    {
     "name": "stdout",
     "output_type": "stream",
     "text": [
      "enter the values55\n",
      "you are the enter the room\n"
     ]
    }
   ],
   "source": [
    "age=int(input(\"enter the values\"))\n",
    "if(age>=75):\n",
    "    print(\"you are eligable\")\n",
    "elif(age<75and age>=55):\n",
    "    print(\"you are the enter the room\")\n",
    "else:\n",
    "    print(\"you are not eligable\")"
   ]
  },
  {
   "cell_type": "code",
   "execution_count": 112,
   "id": "c694f446",
   "metadata": {},
   "outputs": [
    {
     "name": "stdout",
     "output_type": "stream",
     "text": [
      "-14\n"
     ]
    }
   ],
   "source": [
    "a=3\n",
    "while(a<5):\n",
    "    a=a+1-2*9\n",
    "    print(a)\n",
    "    #a=a+1\n",
    "    break;"
   ]
  },
  {
   "cell_type": "code",
   "execution_count": 119,
   "id": "1c7a40cb",
   "metadata": {},
   "outputs": [
    {
     "name": "stdout",
     "output_type": "stream",
     "text": [
      "<module 'calendar' from 'C:\\\\Users\\\\Admin\\\\anaconda3\\\\DLLs\\\\mysite\\\\lib\\\\calendar.py'>\n"
     ]
    }
   ],
   "source": [
    "import calendar as cal\n",
    "print(cal)\n"
   ]
  },
  {
   "cell_type": "code",
   "execution_count": 132,
   "id": "871495d9",
   "metadata": {},
   "outputs": [
    {
     "name": "stdout",
     "output_type": "stream",
     "text": [
      "enter the number of rows:2\n",
      "1 \n",
      "2 2 \n"
     ]
    }
   ],
   "source": [
    "n=int(input(\"enter the number of rows:\"))\n",
    "for i in range(1,n+1):\n",
    "    for j in range(1,i+1):\n",
    "        print(i,end=\" \")\n",
    "    print()"
   ]
  },
  {
   "cell_type": "code",
   "execution_count": 146,
   "id": "b87bda83",
   "metadata": {},
   "outputs": [
    {
     "name": "stdout",
     "output_type": "stream",
     "text": [
      "enter the number of rows7\n",
      "1 0\n",
      "1 1\n",
      "1 2\n",
      "1 3\n",
      "1 4\n",
      "1 5\n",
      "1 6\n",
      "\n",
      "2 0\n",
      "2 1\n",
      "2 2\n",
      "2 3\n",
      "2 4\n",
      "2 5\n",
      "2 6\n",
      "\n"
     ]
    }
   ],
   "source": [
    "n=int(input(\"enter the number of rows\"))\n",
    "for i in range(1,i+1):\n",
    "    for j in range(0,n+0):\n",
    "        print(i,end=\" \")\n",
    "        print(j)\n",
    "    print()"
   ]
  },
  {
   "cell_type": "code",
   "execution_count": 147,
   "id": "40962988",
   "metadata": {},
   "outputs": [
    {
     "name": "stdout",
     "output_type": "stream",
     "text": [
      "1 2 3 4 5 6 7 8 9 10 11 12 13 14 15 16 17 18 19 20 21 22 23 24 25 26 27 28 29 30 31 32 33 34 35 36 37 38 39 "
     ]
    }
   ],
   "source": [
    "for i in range(1,40):\n",
    "    print(i,end=\" \")"
   ]
  },
  {
   "cell_type": "code",
   "execution_count": 148,
   "id": "a38df827",
   "metadata": {},
   "outputs": [
    {
     "name": "stdout",
     "output_type": "stream",
     "text": [
      "1 3 5 7 9 11 13 15 17 19 "
     ]
    }
   ],
   "source": [
    "for i in range(1,20,2):#here 1-is the starting number,20 is the end number(n-1=20-1),2 is the difference of the number\n",
    "    print(i,end=\" \")"
   ]
  },
  {
   "cell_type": "code",
   "execution_count": 149,
   "id": "9d099bc4",
   "metadata": {},
   "outputs": [
    {
     "name": "stdout",
     "output_type": "stream",
     "text": [
      "0 2 4 6 8 10 12 14 16 18 20 22 24 26 28 30 32 34 36 38 "
     ]
    }
   ],
   "source": [
    "for i in range(0,40,2):\n",
    "    print(i,end=\" \")"
   ]
  },
  {
   "cell_type": "code",
   "execution_count": 150,
   "id": "cc3aadd5",
   "metadata": {},
   "outputs": [
    {
     "name": "stdout",
     "output_type": "stream",
     "text": [
      "-20 -19 -18 -17 -16 -15 -14 -13 -12 -11 -10 -9 -8 -7 -6 -5 -4 -3 -2 -1 "
     ]
    }
   ],
   "source": [
    "for i in range(-20,0):\n",
    "    print(i,end=\" \")"
   ]
  },
  {
   "cell_type": "code",
   "execution_count": 154,
   "id": "3ddd5ffe",
   "metadata": {},
   "outputs": [
    {
     "name": "stdout",
     "output_type": "stream",
     "text": [
      "0 16\n",
      "2 17\n",
      "4 18\n",
      "6 19\n",
      "8 20\n",
      "10 0\n",
      "12 1\n",
      "14 2\n",
      "16 3\n",
      "18 4\n"
     ]
    }
   ],
   "source": [
    "l=[0,1,2,3,4,5,6,7,8,9,10,11,12,13,14,15,16,17,18,19,20]\n",
    "for i,j in zip(range(0,20,2),range(-5,10)):\n",
    "    print(l[i],l[j])"
   ]
  },
  {
   "cell_type": "code",
   "execution_count": 155,
   "id": "c45d51dc",
   "metadata": {},
   "outputs": [
    {
     "name": "stdout",
     "output_type": "stream",
     "text": [
      "(0, -5)\n",
      "(2, -4)\n",
      "(4, -3)\n",
      "(6, -2)\n",
      "(8, -1)\n",
      "(10, 0)\n",
      "(12, 1)\n",
      "(14, 2)\n",
      "(16, 3)\n",
      "(18, 4)\n"
     ]
    }
   ],
   "source": [
    "#l=[0,1,2,3,4,5,6,7,8,9,10,11,12,13,14,15,16,17,18,19,20]\n",
    "for i in zip(range(0,20,2),range(-5,10)):\n",
    "    print(i)"
   ]
  },
  {
   "cell_type": "code",
   "execution_count": 156,
   "id": "5461fc2d",
   "metadata": {},
   "outputs": [
    {
     "name": "stdout",
     "output_type": "stream",
     "text": [
      "\n",
      "*\n",
      "**\n",
      "***\n",
      "****\n",
      "*****\n",
      "******\n"
     ]
    }
   ],
   "source": [
    "#for i in range(n+1,-1,-1):\n",
    "#    print(\"@\"*i)\n",
    "for i in range(0,6+1):\n",
    "    print(\"*\"*i)"
   ]
  },
  {
   "cell_type": "code",
   "execution_count": 157,
   "id": "c6048907",
   "metadata": {},
   "outputs": [
    {
     "name": "stdout",
     "output_type": "stream",
     "text": [
      "5 4 3 2 1 \n",
      "5 4 3 2 \n",
      "5 4 3 \n",
      "5 4 \n",
      "5 \n"
     ]
    }
   ],
   "source": [
    "for i in range(1,6):\n",
    "    for j in range(5,i-1,-1):\n",
    "        print(j,end=\" \")\n",
    "    print()"
   ]
  },
  {
   "cell_type": "code",
   "execution_count": 158,
   "id": "3c9a4bb4",
   "metadata": {},
   "outputs": [
    {
     "name": "stdout",
     "output_type": "stream",
     "text": [
      "0 1 \n",
      "0 1 2 \n",
      "0 1 2 3 \n",
      "0 1 2 3 4 \n",
      "0 1 2 3 4 5 \n",
      "0 1 2 3 4 5 6 \n",
      "0 1 2 3 4 5 6 7 \n"
     ]
    }
   ],
   "source": [
    "for i in range(1,8):\n",
    "    for j in range(0,i+1):\n",
    "        print(j,end=\" \")\n",
    "    print()"
   ]
  },
  {
   "cell_type": "code",
   "execution_count": 159,
   "id": "5960df47",
   "metadata": {},
   "outputs": [
    {
     "name": "stdout",
     "output_type": "stream",
     "text": [
      "3 4 5 6 7 8 9 10 11 12 13 14 15 16 17 18 19 20 21 22 23 24 25 26 27 28 29 30 \n",
      "3 4 5 6 7 8 9 10 11 12 13 14 15 16 17 18 19 20 21 22 23 24 25 26 27 28 29 30 31 \n",
      "3 4 5 6 7 8 9 10 11 12 13 14 15 16 17 18 19 20 21 22 23 24 25 26 27 28 29 30 31 32 \n",
      "3 4 5 6 7 8 9 10 11 12 13 14 15 16 17 18 19 20 21 22 23 24 25 26 27 28 29 30 31 32 33 \n",
      "3 4 5 6 7 8 9 10 11 12 13 14 15 16 17 18 19 20 21 22 23 24 25 26 27 28 29 30 31 32 33 34 \n",
      "3 4 5 6 7 8 9 10 11 12 13 14 15 16 17 18 19 20 21 22 23 24 25 26 27 28 29 30 31 32 33 34 35 \n",
      "3 4 5 6 7 8 9 10 11 12 13 14 15 16 17 18 19 20 21 22 23 24 25 26 27 28 29 30 31 32 33 34 35 36 \n",
      "3 4 5 6 7 8 9 10 11 12 13 14 15 16 17 18 19 20 21 22 23 24 25 26 27 28 29 30 31 32 33 34 35 36 37 \n"
     ]
    }
   ],
   "source": [
    "for i in range(1,9):\n",
    "    for j in range(3,i+30):\n",
    "        print(j,end=\" \")\n",
    "    print()"
   ]
  },
  {
   "cell_type": "code",
   "execution_count": 160,
   "id": "51eaacae",
   "metadata": {},
   "outputs": [
    {
     "name": "stdout",
     "output_type": "stream",
     "text": [
      "30 28 26 24 22 20 18 16 14 12 10 8 6 4 2 0 -2 -4 -6 -8 \n",
      "30 28 26 24 22 20 18 16 14 12 10 8 6 4 2 0 -2 -4 -6 \n",
      "30 28 26 24 22 20 18 16 14 12 10 8 6 4 2 0 -2 -4 -6 \n",
      "30 28 26 24 22 20 18 16 14 12 10 8 6 4 2 0 -2 -4 \n",
      "30 28 26 24 22 20 18 16 14 12 10 8 6 4 2 0 -2 -4 \n",
      "30 28 26 24 22 20 18 16 14 12 10 8 6 4 2 0 -2 \n",
      "30 28 26 24 22 20 18 16 14 12 10 8 6 4 2 0 -2 \n",
      "30 28 26 24 22 20 18 16 14 12 10 8 6 4 2 0 \n"
     ]
    }
   ],
   "source": [
    "for i in range(1,9):\n",
    "    for j in range(30,i-10,-2):\n",
    "        print(j,end=\" \")\n",
    "    print()"
   ]
  },
  {
   "cell_type": "code",
   "execution_count": 161,
   "id": "7c2b8f24",
   "metadata": {},
   "outputs": [
    {
     "name": "stdout",
     "output_type": "stream",
     "text": [
      "30 29 28 27 26 25 24 23 22 21 20 19 18 17 16 15 14 13 12 11 10 9 8 7 6 5 4 3 2 1 0 -1 -2 -3 -4 -5 -6 -7 -8 \n",
      "30 29 28 27 26 25 24 23 22 21 20 19 18 17 16 15 14 13 12 11 10 9 8 7 6 5 4 3 2 1 0 -1 -2 -3 -4 -5 -6 -7 \n",
      "30 29 28 27 26 25 24 23 22 21 20 19 18 17 16 15 14 13 12 11 10 9 8 7 6 5 4 3 2 1 0 -1 -2 -3 -4 -5 -6 \n",
      "30 29 28 27 26 25 24 23 22 21 20 19 18 17 16 15 14 13 12 11 10 9 8 7 6 5 4 3 2 1 0 -1 -2 -3 -4 -5 \n",
      "30 29 28 27 26 25 24 23 22 21 20 19 18 17 16 15 14 13 12 11 10 9 8 7 6 5 4 3 2 1 0 -1 -2 -3 -4 \n",
      "30 29 28 27 26 25 24 23 22 21 20 19 18 17 16 15 14 13 12 11 10 9 8 7 6 5 4 3 2 1 0 -1 -2 -3 \n",
      "30 29 28 27 26 25 24 23 22 21 20 19 18 17 16 15 14 13 12 11 10 9 8 7 6 5 4 3 2 1 0 -1 -2 \n",
      "30 29 28 27 26 25 24 23 22 21 20 19 18 17 16 15 14 13 12 11 10 9 8 7 6 5 4 3 2 1 0 -1 \n"
     ]
    }
   ],
   "source": [
    "for i in range(1,9):\n",
    "    for j in range(30,i-10,-1):\n",
    "        print(j,end=\" \")\n",
    "    print()"
   ]
  },
  {
   "cell_type": "code",
   "execution_count": 163,
   "id": "9af49f84",
   "metadata": {},
   "outputs": [
    {
     "name": "stdout",
     "output_type": "stream",
     "text": [
      "enter the number of rows required:5\n",
      "          * \n",
      "            * \n",
      "              * \n",
      "                * \n",
      "                  * \n"
     ]
    }
   ],
   "source": [
    "row =int(input(\"enter the number of rows required:\"))\n",
    "for i in range(row):\n",
    "    for j in range(row-i):\n",
    "        print(' ',end=' ')#printing space required and staying in same line\n",
    "        \n",
    "    for j in range(2*i+1):\n",
    "        if j==2*i:\n",
    "            print('*',end=' ')\n",
    "        else:\n",
    "            print(' ',end=' ')\n",
    "    print()#printing a new line"
   ]
  },
  {
   "cell_type": "code",
   "execution_count": 180,
   "id": "c4b3d5c3",
   "metadata": {},
   "outputs": [
    {
     "data": {
      "text/plain": [
       "'Data Science'"
      ]
     },
     "execution_count": 180,
     "metadata": {},
     "output_type": "execute_result"
    }
   ],
   "source": [
    "def sam(text):\n",
    "    def fun(sam):\n",
    "        return sam\n",
    "    return text\n",
    "sam(\"Data Science\")\n",
    "   "
   ]
  },
  {
   "cell_type": "code",
   "execution_count": 184,
   "id": "11b31117",
   "metadata": {},
   "outputs": [
    {
     "data": {
      "text/plain": [
       "'hii'"
      ]
     },
     "execution_count": 184,
     "metadata": {},
     "output_type": "execute_result"
    }
   ],
   "source": [
    "sam(\"hii\")"
   ]
  },
  {
   "cell_type": "code",
   "execution_count": 185,
   "id": "9adee366",
   "metadata": {},
   "outputs": [
    {
     "name": "stdout",
     "output_type": "stream",
     "text": [
      "it is true:\n",
      "None\n",
      "it is true:\n",
      "None\n"
     ]
    }
   ],
   "source": [
    "def random():\n",
    "    return x+1\n",
    "def texts():\n",
    "    return x-3\n",
    "def operator(func,x):\n",
    "    print(\"it is true:\")\n",
    "   # temp=func(x)\n",
    "   # return temp\n",
    "print(operator(texts,36))\n",
    "print(operator(random,56))\n"
   ]
  },
  {
   "cell_type": "code",
   "execution_count": 186,
   "id": "a3759eb2",
   "metadata": {},
   "outputs": [
    {
     "name": "stdout",
     "output_type": "stream",
     "text": [
      "the statement\n",
      "the base class:\n"
     ]
    }
   ],
   "source": [
    "def fun():\n",
    "    print(\"the statement\")\n",
    "    def fun1():\n",
    "        print(\"the derived class:\")\n",
    "    def fun2():\n",
    "        print(\"the base class:\")\n",
    "   # fun1()\n",
    "    fun2()\n",
    "fun()"
   ]
  },
  {
   "cell_type": "code",
   "execution_count": 187,
   "id": "eae4eae3",
   "metadata": {},
   "outputs": [
    {
     "name": "stdout",
     "output_type": "stream",
     "text": [
      "2205591955856\n",
      "2205591955856\n",
      "2205711189584\n"
     ]
    }
   ],
   "source": [
    "def sam():\n",
    "    a=4\n",
    "    b=a\n",
    "    print(id(a))\n",
    "    print(id(b))\n",
    "                          #reassined value of a\n",
    "    a=500                     #id()function it returned the same number\n",
    "    print(id(a))\n",
    "sam()"
   ]
  },
  {
   "cell_type": "code",
   "execution_count": 188,
   "id": "ce5a4f27",
   "metadata": {},
   "outputs": [
    {
     "name": "stdout",
     "output_type": "stream",
     "text": [
      "Shirisha 22 94 2020 no\n",
      "Shirisha\n"
     ]
    }
   ],
   "source": [
    "name=\"Shirisha\"\n",
    "age=22\n",
    "grade=94\n",
    "passed=2020\n",
    "ismarried=\"no\"\n",
    "print(name,age,grade,passed,ismarried, )\n",
    "print(name)"
   ]
  },
  {
   "cell_type": "code",
   "execution_count": 189,
   "id": "e816f4ba",
   "metadata": {},
   "outputs": [
    {
     "name": "stdout",
     "output_type": "stream",
     "text": [
      "A B C D E F G H I j\n"
     ]
    }
   ],
   "source": [
    "name=\"A\"\n",
    "naMe=\"B\"\n",
    "NAME=\"C\"\n",
    "_name=\"D\"\n",
    "n_a_m_e=\"E\"\n",
    "name_=\"F\"\n",
    "_NAME_=\"G\"\n",
    "_name_=\"H\"\n",
    "_na58me_=\"I\"\n",
    "nAnMe=\"j\"\n",
    "print(name,naMe,NAME,_name,n_a_m_e,name_,_NAME_,_name_,_na58me_,nAnMe)"
   ]
  },
  {
   "cell_type": "code",
   "execution_count": 190,
   "id": "6ea61f9d",
   "metadata": {},
   "outputs": [
    {
     "name": "stdout",
     "output_type": "stream",
     "text": [
      "the sum of number: 40\n",
      "10 30\n"
     ]
    }
   ],
   "source": [
    "a=10\n",
    "b=30\n",
    "def fun():\n",
    "    #a=10\n",
    "    #b=20\n",
    "    c=a+b\n",
    "    print(\"the sum of number:\",c)\n",
    "fun()\n",
    "print(a,b)"
   ]
  },
  {
   "cell_type": "raw",
   "id": "c2e60be6",
   "metadata": {},
   "source": []
  },
  {
   "cell_type": "code",
   "execution_count": 191,
   "id": "19dd0119",
   "metadata": {
    "scrolled": true
   },
   "outputs": [
    {
     "name": "stdout",
     "output_type": "stream",
     "text": [
      "i have two variables:\n",
      "(32, 11)\n",
      "heyyy we want ...\n"
     ]
    },
    {
     "data": {
      "text/plain": [
       "({'x': 22, 'y': 33, 'z': 44, 'acb': 455, 'abc': 34.5}, 'pyton', 'datascience')"
      ]
     },
     "execution_count": 191,
     "metadata": {},
     "output_type": "execute_result"
    }
   ],
   "source": [
    "x=20; #globle variable \n",
    "def sample_f():  # here we define a funnction, no parameter here\n",
    "    x=40; #local variable\n",
    "    return x; # return a something\n",
    "#print(sample_f())#calling the function or invoke the function\n",
    "\n",
    "\n",
    "def sample_1():   #no parameters here\n",
    "    return \"hii want to do...\"\n",
    "#print(sample_1())\n",
    "'''no function gets calling a function\n",
    "until the user  invoke the function eplicitly '''\n",
    "\n",
    "def sample_2(x,y):#here we are explicitly  two parameter ,its also called local \n",
    "    return x,y;# we return the x and y values.here not same as sample_1() x,y\n",
    "\n",
    "def sample_3(x,y):# define a function or function statement  or here the 2 parameters\n",
    "    x=543;\n",
    "    y=234;#local variables\n",
    "    return x,y; #return the parameter\n",
    "#print(sample_3(45,65)) # here passed the arguments or we suppose to 2 arguments\n",
    "\n",
    "#1.\n",
    "#positional arguments and keyword arguments\n",
    "\n",
    "def sample_4(x,y):# here two parameters \n",
    "    print(\"i have two variables:\")\n",
    "    return x,y;\n",
    "print(sample_4(32,11))\n",
    "\n",
    "def sample_5(x,y,z=13):  #here two parameters,one key word arguments.parameter can followed by keyarguments\n",
    "    print(\"heyyy we want ...\") # print something \n",
    "    return x,y,z;           # returning the parameters \n",
    "sample_5(2,3,45) # calling the  function or invoke the function\n",
    "#print(sample_5(2,3,45)) here we have return the values i.e we want to returned values so we have to print( )function\n",
    "#3.\n",
    "# the  arbitory arguments \n",
    "def sample_d(x,*s): # here we use one positional arguments andanether one *s is the arbitary argument that as to assign\n",
    "           #-values only one variable like s=1,2,3,4,5,6,7,... in a list formate.x=1 .\n",
    "    return x,s;# return the value in the formate of x,s\n",
    "#sample_d(1,2,3,4,5,6,7,8,91,2,3,4,5,6)\n",
    "# we can also write print(sample_d(1,2,3,4,5,6,7,8,91,2,3,4,5,6))i.e here in side the function the block of code to be \n",
    "#-executed thats y we are using the print(func()) \n",
    "    \n",
    "    \n",
    "    \n",
    "def dictionary_form_of_data(s1,s2,**x):#here we use the arbitary arguments.we have execute in the form of dictionary \n",
    "      #-formate ,we have to do **a variable or any letter.\n",
    "    return x,s1,s2; # here returned the variables \n",
    "dictionary_form_of_data(\"pyton\",\"datascience\",x=22,y=33,z=44,acb=455,abc=34.5)# here the o/p in dictionary formate "
   ]
  },
  {
   "cell_type": "code",
   "execution_count": 192,
   "id": "acef8c67",
   "metadata": {},
   "outputs": [
    {
     "name": "stdout",
     "output_type": "stream",
     "text": [
      "('python', 'datascience', {'x': 4, 'y': 6, 'z': 56, 'abc': 43.3})\n"
     ]
    }
   ],
   "source": [
    "def samples_sd(s,s2,**x):# here the positional argument and arbitary arguments  are followed\n",
    "    return s,s2,x; # to return the  values formate \n",
    "print(samples_sd(\"python\",\"datascience\", x=4,y=6,z=56,abc=43.3))# to calling the function in side the print function "
   ]
  },
  {
   "cell_type": "code",
   "execution_count": 193,
   "id": "aa0ffee0",
   "metadata": {},
   "outputs": [
    {
     "name": "stdout",
     "output_type": "stream",
     "text": [
      "my lovely family:\n",
      ":To create our world ,enjoy the life,joy of giving and pleasure loving:\n",
      ".=========================================================================.\n",
      "devil in my life:\n",
      "best enemy\n",
      "devil is bestie\n",
      "====================\n",
      "siri is the rishi\n",
      "you are the winner\n",
      "68\n",
      "====================\n",
      "he is the back bone of my family\n",
      "hii bro\n",
      " he is the only goy\n",
      "=====================\n",
      "she is the god gift to my family \n",
      "hhey u are my little world\n",
      "love u mom\n"
     ]
    }
   ],
   "source": [
    "Aspan_of_life_d=\":To create our world ,enjoy the life,joy of giving and pleasure loving:\"\n",
    "class my_little_world:\n",
    "    print(\"my lovely family:\")\n",
    "    def my_devil(self):\n",
    "        print(\"devil in my life:\")\n",
    "        self.x=\"devil is bestie\"\n",
    "        return \"best enemy\"\n",
    "    def meri_chintu(self):\n",
    "        print(\"siri is the rishi\")\n",
    "        self.y=68;\n",
    "        return \"you are the winner\"\n",
    "    def brother_p(self):\n",
    "        print(\"he is the back bone of my family\")\n",
    "        self.css=\" he is the only goy\"\n",
    "        return \"hii bro\"\n",
    "    def father_my_mom(self):\n",
    "        print(\"she is the god gift to my family \")\n",
    "        self.nsd=\"love u mom\"\n",
    "        return \"hhey u are my little world\"\n",
    "my_little_world()\n",
    "print(Aspan_of_life_d)\n",
    "print(\".=========================================================================.\")\n",
    "q=my_little_world()\n",
    "print(q.my_devil())\n",
    "print(q.x)\n",
    "print(\"====================\")\n",
    "print(q.meri_chintu())\n",
    "print(q.y)\n",
    "print('====================')\n",
    "print(q.brother_p())\n",
    "print(q.css)\n",
    "print(\"=====================\")\n",
    "print(q.father_my_mom())\n",
    "print(q.nsd)\n"
   ]
  },
  {
   "cell_type": "code",
   "execution_count": 194,
   "id": "29b009dc",
   "metadata": {},
   "outputs": [
    {
     "name": "stdout",
     "output_type": "stream",
     "text": [
      "10\n",
      "(4, 27)\n",
      "25\n",
      "test_instance\n",
      "353\n"
     ]
    }
   ],
   "source": [
    "x=10;\n",
    "def perform(x,y):\n",
    "    return x**2,y**3;\n",
    "class Test:\n",
    "    static_x=25;\n",
    "    def test_statistic():\n",
    "        return \"test_static\"\n",
    "    def test_instance(self):\n",
    "        self.instance_x=353;\n",
    "        return \"test_instance\"\n",
    "if __name__==\"__main__\":\n",
    "    print(x)\n",
    "    print(perform(2,3))\n",
    "    print(Test.static_x)\n",
    "    #print(Test.test-statistic())\n",
    "    z=Test()\n",
    "    print(z.test_instance())\n",
    "    print(z.instance_x)\n",
    "    "
   ]
  },
  {
   "cell_type": "code",
   "execution_count": 195,
   "id": "9f3bcf54",
   "metadata": {},
   "outputs": [
    {
     "name": "stdout",
     "output_type": "stream",
     "text": [
      "0\n",
      "1\n",
      "8\n",
      "27\n"
     ]
    }
   ],
   "source": [
    "sample=[1,2,3,4]\n",
    "for i in range(0,len(sample)):\n",
    "    print(i**3)"
   ]
  },
  {
   "cell_type": "code",
   "execution_count": 196,
   "id": "793e0799",
   "metadata": {},
   "outputs": [
    {
     "data": {
      "text/plain": [
       "[1728, 39304, 42875, 91125, 97336]"
      ]
     },
     "execution_count": 196,
     "metadata": {},
     "output_type": "execute_result"
    }
   ],
   "source": [
    "sam=[12,34,35,45,46]\n",
    "[i**3 for i in sam]"
   ]
  },
  {
   "cell_type": "code",
   "execution_count": 197,
   "id": "dc29cc46",
   "metadata": {},
   "outputs": [
    {
     "name": "stdout",
     "output_type": "stream",
     "text": [
      "i want to explains the how to work a car:\n",
      "234534\n",
      "its my bike\n",
      "to start the machine\n",
      "its work on \n",
      "234\n",
      "its work automatically\n",
      "563\n"
     ]
    }
   ],
   "source": [
    "x=234534;\n",
    "class vehicils:\n",
    "    print(\"i want to explains the how to work a car:\")\n",
    "    def engine(self):\n",
    "        self.b =\"to start the machine\"\n",
    "        return \"its my bike\"\n",
    "    def accelaration(self):\n",
    "        self.h=234;\n",
    "        return \"its work on \"\n",
    "    def gear(self):\n",
    "        self.g=\"i can ride the bike\"\n",
    "        return \"it is the very excellent\"\n",
    "    def breack(self):\n",
    "        self.k=563;\n",
    "        return \"its work automatically\"\n",
    "vehicils()\n",
    "print(x)\n",
    "h=vehicils()\n",
    "print(h.engine())\n",
    "print(h.b)\n",
    "print(h.accelaration()) #vehicils object has no attribute 'accelaration'\n",
    "print(h.h)\n",
    "print(h.breack())\n",
    "print(h.k)"
   ]
  },
  {
   "cell_type": "code",
   "execution_count": 221,
   "id": "737b5043",
   "metadata": {},
   "outputs": [
    {
     "name": "stdout",
     "output_type": "stream",
     "text": [
      "hii\n",
      "54\n"
     ]
    }
   ],
   "source": [
    "class samp:\n",
    "    x=54; #satatic varible \n",
    "    print(\"hii\")\n",
    "def fanfg(self): #instance variable\n",
    "    self.h=345;\n",
    "    return 'helo' # here we write the inside the function we write the return keyword\n",
    "def fans(): # static varible\n",
    "    self.h=65;\n",
    "    return 'sri'\n",
    "samp()\n",
    "j=samp()\n",
    "print(j.x)\n"
   ]
  },
  {
   "cell_type": "code",
   "execution_count": 222,
   "id": "68058de2",
   "metadata": {},
   "outputs": [
    {
     "data": {
      "text/plain": [
       "['__add__',\n",
       " '__class__',\n",
       " '__contains__',\n",
       " '__delattr__',\n",
       " '__dir__',\n",
       " '__doc__',\n",
       " '__eq__',\n",
       " '__format__',\n",
       " '__ge__',\n",
       " '__getattribute__',\n",
       " '__getitem__',\n",
       " '__getnewargs__',\n",
       " '__gt__',\n",
       " '__hash__',\n",
       " '__init__',\n",
       " '__init_subclass__',\n",
       " '__iter__',\n",
       " '__le__',\n",
       " '__len__',\n",
       " '__lt__',\n",
       " '__mod__',\n",
       " '__mul__',\n",
       " '__ne__',\n",
       " '__new__',\n",
       " '__reduce__',\n",
       " '__reduce_ex__',\n",
       " '__repr__',\n",
       " '__rmod__',\n",
       " '__rmul__',\n",
       " '__setattr__',\n",
       " '__sizeof__',\n",
       " '__str__',\n",
       " '__subclasshook__',\n",
       " 'capitalize',\n",
       " 'casefold',\n",
       " 'center',\n",
       " 'count',\n",
       " 'encode',\n",
       " 'endswith',\n",
       " 'expandtabs',\n",
       " 'find',\n",
       " 'format',\n",
       " 'format_map',\n",
       " 'index',\n",
       " 'isalnum',\n",
       " 'isalpha',\n",
       " 'isascii',\n",
       " 'isdecimal',\n",
       " 'isdigit',\n",
       " 'isidentifier',\n",
       " 'islower',\n",
       " 'isnumeric',\n",
       " 'isprintable',\n",
       " 'isspace',\n",
       " 'istitle',\n",
       " 'isupper',\n",
       " 'join',\n",
       " 'ljust',\n",
       " 'lower',\n",
       " 'lstrip',\n",
       " 'maketrans',\n",
       " 'partition',\n",
       " 'removeprefix',\n",
       " 'removesuffix',\n",
       " 'replace',\n",
       " 'rfind',\n",
       " 'rindex',\n",
       " 'rjust',\n",
       " 'rpartition',\n",
       " 'rsplit',\n",
       " 'rstrip',\n",
       " 'split',\n",
       " 'splitlines',\n",
       " 'startswith',\n",
       " 'strip',\n",
       " 'swapcase',\n",
       " 'title',\n",
       " 'translate',\n",
       " 'upper',\n",
       " 'zfill']"
      ]
     },
     "execution_count": 222,
     "metadata": {},
     "output_type": "execute_result"
    }
   ],
   "source": [
    "dir(str)"
   ]
  },
  {
   "cell_type": "code",
   "execution_count": 223,
   "id": "05a7685e",
   "metadata": {},
   "outputs": [
    {
     "name": "stdout",
     "output_type": "stream",
     "text": [
      "['__add__', '__class__', '__contains__', '__delattr__', '__dir__', '__doc__', '__eq__', '__format__', '__ge__', '__getattribute__', '__getitem__', '__getnewargs__', '__gt__', '__hash__', '__init__', '__init_subclass__', '__iter__', '__le__', '__len__', '__lt__', '__mod__', '__mul__', '__ne__', '__new__', '__reduce__', '__reduce_ex__', '__repr__', '__rmod__', '__rmul__', '__setattr__', '__sizeof__', '__str__', '__subclasshook__', 'capitalize', 'casefold', 'center', 'count', 'encode', 'endswith', 'expandtabs', 'find', 'format', 'format_map', 'index', 'isalnum', 'isalpha', 'isascii', 'isdecimal', 'isdigit', 'isidentifier', 'islower', 'isnumeric', 'isprintable', 'isspace', 'istitle', 'isupper', 'join', 'ljust', 'lower', 'lstrip', 'maketrans', 'partition', 'removeprefix', 'removesuffix', 'replace', 'rfind', 'rindex', 'rjust', 'rpartition', 'rsplit', 'rstrip', 'split', 'splitlines', 'startswith', 'strip', 'swapcase', 'title', 'translate', 'upper', 'zfill']\n"
     ]
    }
   ],
   "source": [
    "print(dir(str))"
   ]
  },
  {
   "cell_type": "code",
   "execution_count": 224,
   "id": "e74242b6",
   "metadata": {},
   "outputs": [
    {
     "name": "stdout",
     "output_type": "stream",
     "text": [
      "sales  1332, Total- 4.35\n"
     ]
    }
   ],
   "source": [
    "#print style formatting data\n",
    "print(\"sales %5s, Total- %.2f\"%(\"1332\",4.34543))"
   ]
  },
  {
   "cell_type": "code",
   "execution_count": 225,
   "id": "74fcad83",
   "metadata": {},
   "outputs": [
    {
     "name": "stdout",
     "output_type": "stream",
     "text": [
      "salary  2345,Total_salary:-  3456\n"
     ]
    }
   ],
   "source": [
    "print(\"salary %5s,Total_salary:-%6d\"%(\"2345\",3456))"
   ]
  },
  {
   "cell_type": "code",
   "execution_count": 226,
   "id": "420576f5",
   "metadata": {},
   "outputs": [
    {
     "name": "stdout",
     "output_type": "stream",
     "text": [
      "intrest 20,000; Rate_of_intrest:- 3.500; Total_amount_is:-60,000000\n"
     ]
    }
   ],
   "source": [
    "print(\"intrest %2s; Rate_of_intrest:- %.3f; Total_amount_is:-%9s\"%(\"20,000\",3.5000,\"60,000000\"))         #unexpected EOF while parsing means to check the paranthasis"
   ]
  },
  {
   "cell_type": "code",
   "execution_count": 227,
   "id": "3bff8587",
   "metadata": {},
   "outputs": [
    {
     "name": "stdout",
     "output_type": "stream",
     "text": [
      "sales :12323, Total :     0.55\n"
     ]
    }
   ],
   "source": [
    "print(\"sales :{0:d}, Total :{1:9.2f}\".format(12323,00.546))  #padding spaces before for an integer(d)"
   ]
  },
  {
   "cell_type": "code",
   "execution_count": 228,
   "id": "abae8bb8",
   "metadata": {},
   "outputs": [
    {
     "name": "stdout",
     "output_type": "stream",
     "text": [
      "what shirishastupid fellow nd ------- fellow ntra assal m  \n"
     ]
    }
   ],
   "source": [
    "print(\"what shirishastupid fellow nd ------- fellow ntra assal m  \")"
   ]
  },
  {
   "cell_type": "code",
   "execution_count": 229,
   "id": "c3c5eeb3",
   "metadata": {},
   "outputs": [
    {
     "name": "stdout",
     "output_type": "stream",
     "text": [
      "asdfjkl\n"
     ]
    }
   ],
   "source": [
    "def text(letters):\n",
    "    string=''\n",
    "    for i in letters:\n",
    "        if i =='.':\n",
    "            string +='.'\n",
    "        else:\n",
    "            string +=i;\n",
    "    return string;\n",
    "print(text(\"asdfjkl\"))\n"
   ]
  },
  {
   "cell_type": "code",
   "execution_count": 230,
   "id": "305c0e41",
   "metadata": {},
   "outputs": [],
   "source": [
    "def hii():\n",
    "    print(\"hii whereyou\")\n",
    "                     # every function by default it takes return. here we are write"
   ]
  },
  {
   "cell_type": "code",
   "execution_count": 231,
   "id": "02b1aaba",
   "metadata": {},
   "outputs": [
    {
     "name": "stdout",
     "output_type": "stream",
     "text": [
      "hii whereyou\n",
      "None\n"
     ]
    }
   ],
   "source": [
    "print(hii())  # here we write the inside the  print() we are calling the function i.e hii() that y the  execution of program is none.\n",
    "               # the calling the function  is execute the print statement,after that every function as default it takes \"return\",  print()  we are use thats y o/p is none "
   ]
  },
  {
   "cell_type": "code",
   "execution_count": 232,
   "id": "2dc3e1e1",
   "metadata": {},
   "outputs": [
    {
     "data": {
      "text/plain": [
       "'how are u'"
      ]
     },
     "execution_count": 232,
     "metadata": {},
     "output_type": "execute_result"
    }
   ],
   "source": [
    "def heyy():\n",
    "    return \"how are u\";\n",
    "heyy()\n"
   ]
  },
  {
   "cell_type": "code",
   "execution_count": 233,
   "id": "93921391",
   "metadata": {},
   "outputs": [
    {
     "name": "stdout",
     "output_type": "stream",
     "text": [
      "how are u\n",
      "None\n"
     ]
    }
   ],
   "source": [
    "def heyy():\n",
    "    print(\"how are u\");\n",
    "print(heyy())\n"
   ]
  },
  {
   "cell_type": "code",
   "execution_count": 234,
   "id": "f95afed0",
   "metadata": {},
   "outputs": [
    {
     "name": "stdout",
     "output_type": "stream",
     "text": [
      "i.want.to.explain\n"
     ]
    }
   ],
   "source": [
    "def fun(word):\n",
    "    string=''\n",
    "    for i in word:\n",
    "        if i==' ':\n",
    "            string +='.'\n",
    "        else:\n",
    "            string=string +i\n",
    "    return string\n",
    "print(fun(\"i want to explain\"))"
   ]
  },
  {
   "cell_type": "code",
   "execution_count": 235,
   "id": "f568a138",
   "metadata": {},
   "outputs": [
    {
     "name": "stdout",
     "output_type": "stream",
     "text": [
      "siri@#$ab%^&*@#$ab%^&*hii\n"
     ]
    }
   ],
   "source": [
    "def samp(sample):\n",
    "    str=''\n",
    "    for i in sample:\n",
    "        if i==' ':\n",
    "            str +='@#$ab%^&*'\n",
    "        else:\n",
    "            str=str+i\n",
    "    return str;\n",
    "samp(\"siri\")\n",
    "print(samp(\"siri  hii\"))"
   ]
  },
  {
   "cell_type": "code",
   "execution_count": 236,
   "id": "f8b7fd2d",
   "metadata": {},
   "outputs": [
    {
     "name": "stdout",
     "output_type": "stream",
     "text": [
      "taxes 10,0000, budget:- 6000000\n",
      "income_services:  23,45556, Total_amount:= 657875\n"
     ]
    }
   ],
   "source": [
    "print(\"taxes %5s, budget:- %2d\"%(\"10,0000\",6000000))\n",
    "print(\"income_services: %9s, Total_amount:= %3d\"%(\"23,45556\",657875))"
   ]
  },
  {
   "cell_type": "code",
   "execution_count": 237,
   "id": "d1979ec0",
   "metadata": {},
   "outputs": [
    {
     "name": "stdout",
     "output_type": "stream",
     "text": [
      "this is the constructor\n",
      "23\n"
     ]
    }
   ],
   "source": [
    "class samp:\n",
    "    def __init__(self):\n",
    "        self.x=23;\n",
    "        print( \"this is the constructor\")  # we dont use return statement inside the constructor\n",
    "d=samp()\n",
    "print(d.x)"
   ]
  },
  {
   "cell_type": "code",
   "execution_count": 242,
   "id": "bf2ff077",
   "metadata": {},
   "outputs": [
    {
     "data": {
      "text/plain": [
       "'the coding l^&ngu^&ge'"
      ]
     },
     "execution_count": 242,
     "metadata": {},
     "output_type": "execute_result"
    }
   ],
   "source": [
    "text=\"the coding language\"\n",
    "def func():\n",
    "    dfg=''\n",
    "    for i in text:\n",
    "        if i=='a':\n",
    "            dfg+='^&'\n",
    "        else:\n",
    "            dfg=dfg+i\n",
    "    return dfg;\n",
    "func()"
   ]
  },
  {
   "cell_type": "code",
   "execution_count": 41,
   "id": "72733511",
   "metadata": {},
   "outputs": [
    {
     "name": "stdout",
     "output_type": "stream",
     "text": [
      "10 x 1 = 10 5\n",
      "10 x 2 = 20 10\n",
      "10 x 3 = 30 15\n",
      "10 x 4 = 40 20\n",
      "10 x 5 = 50 25\n",
      "10 x 6 = 60 30\n",
      "10 x 7 = 70 35\n",
      "10 x 8 = 80 40\n",
      "10 x 9 = 90 45\n",
      "10 x 10 = 100 50\n"
     ]
    }
   ],
   "source": [
    "def number(n,m):\n",
    "    for i in range(1,11):\n",
    "        print(n,\"x\",i,\"=\",n*i,m*i)\n",
    "        \n",
    "number(10,5)"
   ]
  },
  {
   "cell_type": "code",
   "execution_count": 1,
   "id": "c3e9e05a",
   "metadata": {},
   "outputs": [
    {
     "name": "stdout",
     "output_type": "stream",
     "text": [
      "1 ===============================\n",
      "1 =++++++++++++++++++++++++++++++\n",
      "2 =++++++++++++++++++++++++++++++\n",
      "3 =++++++++++++++++++++++++++++++\n",
      "4 =++++++++++++++++++++++++++++++\n",
      "2 ===============================\n",
      "1 =++++++++++++++++++++++++++++++\n",
      "2 =++++++++++++++++++++++++++++++\n",
      "3 =++++++++++++++++++++++++++++++\n",
      "4 =++++++++++++++++++++++++++++++\n",
      "3 ===============================\n",
      "1 =++++++++++++++++++++++++++++++\n",
      "2 =++++++++++++++++++++++++++++++\n",
      "3 =++++++++++++++++++++++++++++++\n",
      "4 =++++++++++++++++++++++++++++++\n",
      "4 ===============================\n",
      "1 =++++++++++++++++++++++++++++++\n",
      "2 =++++++++++++++++++++++++++++++\n",
      "3 =++++++++++++++++++++++++++++++\n",
      "4 =++++++++++++++++++++++++++++++\n",
      "5 ===============================\n",
      "1 =++++++++++++++++++++++++++++++\n",
      "2 =++++++++++++++++++++++++++++++\n",
      "3 =++++++++++++++++++++++++++++++\n",
      "4 =++++++++++++++++++++++++++++++\n",
      "6 ===============================\n",
      "1 =++++++++++++++++++++++++++++++\n",
      "2 =++++++++++++++++++++++++++++++\n",
      "3 =++++++++++++++++++++++++++++++\n",
      "4 =++++++++++++++++++++++++++++++\n",
      "\n"
     ]
    }
   ],
   "source": [
    "# 3.write a program  to extract each digit from an integer in the reverse order\n",
    "'''for example 2456 is 6 5 4 2'''\n",
    "lists=\"123456\"\n",
    "for i in range(len(lists)-0):\n",
    "    print(lists[i],end=\" \")\n",
    "    print(\"===============================\")\n",
    "    for i in range(len(lists)-2):\n",
    "        print(lists[i],end=\" \")\n",
    "        print(\"=++++++++++++++++++++++++++++++\")\n",
    "        \n",
    "print()"
   ]
  },
  {
   "cell_type": "code",
   "execution_count": 2,
   "id": "c59f10b6",
   "metadata": {},
   "outputs": [
    {
     "name": "stdout",
     "output_type": "stream",
     "text": [
      "5 8 3 7 7 4 \n"
     ]
    }
   ],
   "source": [
    "listd=\"7123498765\"\n",
    "for i in range(len(listd)-1,-8,-3):  # startting,steps,difference\n",
    "    print(listd[i],end=\" \")\n",
    "print()"
   ]
  },
  {
   "cell_type": "code",
   "execution_count": 42,
   "id": "17bdfeba",
   "metadata": {},
   "outputs": [
    {
     "name": "stdout",
     "output_type": "stream",
     "text": [
      "4321\n"
     ]
    }
   ],
   "source": [
    "def s(sample):\n",
    "    for i in range(len(sample)-1,-8,-3):  # startting,steps,difference\n",
    "        return sample[::-1]\n",
    "print(s(\"1234\"))"
   ]
  },
  {
   "cell_type": "code",
   "execution_count": 3,
   "id": "702ee3e4",
   "metadata": {},
   "outputs": [
    {
     "name": "stdout",
     "output_type": "stream",
     "text": [
      "hiii\n"
     ]
    },
    {
     "data": {
      "text/plain": [
       "'4321'"
      ]
     },
     "execution_count": 3,
     "metadata": {},
     "output_type": "execute_result"
    }
   ],
   "source": [
    "def fun():\n",
    "    print(\"hiii\")\n",
    "    list=\"1234\"\n",
    "    for each in range(len(list)-1,-1,-1):\n",
    "        for each in list:\n",
    "            each=each+\" \"\n",
    "       # print(list[each],end=\" \")\n",
    "    return list[::-1]\n",
    "        \n",
    "fun()\n",
    "\n"
   ]
  },
  {
   "cell_type": "code",
   "execution_count": 4,
   "id": "798ce0f7",
   "metadata": {},
   "outputs": [
    {
     "name": "stdout",
     "output_type": "stream",
     "text": [
      "1 4 3 2\n"
     ]
    }
   ],
   "source": [
    "#3.write a program  to extract each digit from an integer in the reverse order\n",
    "'''for example 2456 is 6 5 4 2'''\n",
    "def fun(sample):\n",
    "    #x=\"12345\"\n",
    "    return (\" \".join(sample[::-1]))\n",
    "    \n",
    "print(fun(\"2341\"))\n",
    "    \n"
   ]
  },
  {
   "cell_type": "code",
   "execution_count": null,
   "id": "68693804",
   "metadata": {},
   "outputs": [],
   "source": [
    "'''write a program which will find all numbers which are divisible by 7 but are not a multiple of 5 b/w 2000 and 3200\n",
    "(both included) the numbers obtained should be a printed in a comma-separeted sequence on a single line\n",
    "\n",
    "'''\n",
    "def func(values,var):\n",
    "    for value in range(0,len(func(2000,3200))):\n",
    "        if value%7: #and value%!5:\n",
    "            int(value[\",\"])\n",
    "        return \"the values\"\n",
    "print(func(2000,3200))"
   ]
  },
  {
   "cell_type": "markdown",
   "id": "c0d6bf0b",
   "metadata": {},
   "source": [
    "# function"
   ]
  },
  {
   "cell_type": "markdown",
   "id": "fcbc4675",
   "metadata": {},
   "source": [
    "#function is used to any particular task are perform a block of code.\n",
    "'''\n",
    "\"function to reuse that particular function many times\".\n",
    "function is block of code i.e to  (many)one or more are statements are  any task/calculation/operation can do i.e function.\n",
    "why we use function -when we are creating a function.the function is created once, if any where we want that data then we use the function.the coding is less ,,the code reusabily.\n",
    "'''"
   ]
  },
  {
   "cell_type": "code",
   "execution_count": 83,
   "id": "c17f0064",
   "metadata": {},
   "outputs": [
    {
     "data": {
      "text/plain": [
       "(8, 0, 60, 0, 0.3333333333333333, 4)"
      ]
     },
     "execution_count": 83,
     "metadata": {},
     "output_type": "execute_result"
    }
   ],
   "source": [
    "def adding_num(x,y):\n",
    "    s=x+y; \n",
    "    return s,x^2,x*y*5,x//y,x/y,x^y\n",
    "adding_num(2,6)\n",
    "#adding_num(1099,234)"
   ]
  },
  {
   "cell_type": "code",
   "execution_count": 101,
   "id": "cb46a2f8",
   "metadata": {},
   "outputs": [
    {
     "name": "stdout",
     "output_type": "stream",
     "text": [
      "aaaaaaaaaaaaaaaaaaaa\n",
      "0\n",
      "---------\n",
      "1\n",
      "---------\n",
      "2\n",
      "---------\n",
      "3\n",
      "---------\n",
      "4\n",
      "---------\n",
      "5\n",
      "---------\n",
      "0\n",
      "=====\n",
      "0\n",
      "---------\n",
      "1\n",
      "---------\n",
      "2\n",
      "---------\n",
      "3\n",
      "---------\n",
      "4\n",
      "---------\n",
      "5\n",
      "---------\n",
      "6\n",
      "---------\n",
      "1\n",
      "=====\n",
      "0\n",
      "---------\n",
      "1\n",
      "---------\n",
      "2\n",
      "---------\n",
      "3\n",
      "---------\n",
      "4\n",
      "---------\n",
      "5\n",
      "---------\n",
      "6\n",
      "---------\n",
      "7\n",
      "---------\n",
      "2\n",
      "=====\n"
     ]
    },
    {
     "data": {
      "text/plain": [
       "(2, 'x', 1, '=', 2)"
      ]
     },
     "execution_count": 101,
     "metadata": {},
     "output_type": "execute_result"
    }
   ],
   "source": [
    "def tables(var):\n",
    "    for j in range(0,3):\n",
    "        for s in range(0,6+j):\n",
    "            print(s)\n",
    "            print(\"---------\")\n",
    "        print(j)\n",
    "        print(\"=====\")\n",
    "    return j,\"x\",i,\"=\",j*1\n",
    "\n",
    "print(\"aaaaaaaaaaaaaaaaaaaa\")\n",
    "tables(5)"
   ]
  },
  {
   "cell_type": "code",
   "execution_count": 127,
   "id": "1b4490c6",
   "metadata": {},
   "outputs": [
    {
     "name": "stdout",
     "output_type": "stream",
     "text": [
      "3\n",
      ".............\n",
      "4\n",
      ".............\n",
      "5\n",
      ".............\n",
      "6\n",
      ".............\n",
      "  1\n"
     ]
    },
    {
     "data": {
      "text/plain": [
       "(2, 'x', 2, '=', 4)"
      ]
     },
     "execution_count": 127,
     "metadata": {},
     "output_type": "execute_result"
    }
   ],
   "source": [
    "def table_s(n):\n",
    "    for i in range(0,10):\n",
    "        for j in range(2,3+i):\n",
    "            for z in range(3,5+j):\n",
    "                print(z)\n",
    "                print(\".............\")\n",
    "            print(\" \", 2*j-3)\n",
    "        return j,\"x\",j,\"=\",j*2  #,i*2+i*5\n",
    "    print(i)\n",
    "table_s(5)"
   ]
  },
  {
   "cell_type": "code",
   "execution_count": 25,
   "id": "52b04f14",
   "metadata": {},
   "outputs": [
    {
     "name": "stdout",
     "output_type": "stream",
     "text": [
      " \n"
     ]
    },
    {
     "data": {
      "text/plain": [
       "(1, 'x', 1, '=', 1)"
      ]
     },
     "execution_count": 25,
     "metadata": {},
     "output_type": "execute_result"
    }
   ],
   "source": [
    "def variables():\n",
    "    for i in range(1,11):\n",
    "        print(\" \")\n",
    "        for j in range (1,10):\n",
    "            #print(\" \")\n",
    "    \n",
    "             return i,\"x\",j,\"=\",i*j\n",
    "variables()\n"
   ]
  },
  {
   "cell_type": "code",
   "execution_count": 142,
   "id": "8243729b",
   "metadata": {},
   "outputs": [
    {
     "name": "stdout",
     "output_type": "stream",
     "text": [
      "0 0\n",
      "0 1\n",
      "0 2\n",
      "0 3\n",
      "*\n",
      "0\n",
      "1 0\n",
      "1 1\n",
      "1 2\n",
      "1 3\n",
      "1 4\n",
      "*\n",
      "1\n",
      "2 0\n",
      "2 1\n",
      "2 2\n",
      "2 3\n",
      "2 4\n",
      "2 5\n",
      "*\n",
      "2\n",
      "3 0\n",
      "3 1\n",
      "3 2\n",
      "3 3\n",
      "3 4\n",
      "3 5\n",
      "3 6\n",
      "*\n",
      "3\n",
      "4 0\n",
      "4 1\n",
      "4 2\n",
      "4 3\n",
      "4 4\n",
      "4 5\n",
      "4 6\n",
      "4 7\n",
      "*\n",
      "4\n"
     ]
    }
   ],
   "source": [
    "for i in range(0,5):\n",
    "    for j in range(0,2*2+i):\n",
    "        print(i,j)\n",
    "    print(\"*\")\n",
    "    print(i)"
   ]
  },
  {
   "cell_type": "code",
   "execution_count": 152,
   "id": "86acda45",
   "metadata": {},
   "outputs": [
    {
     "name": "stdout",
     "output_type": "stream",
     "text": [
      "         @\n",
      "         @\n",
      "         @\n",
      "         @\n",
      "         @\n"
     ]
    }
   ],
   "source": [
    "for i in range (0,5):  # here we are taking the 5 values of the v\n",
    "    for j in range(0,9): # here''' , ,tabspace'''\n",
    "        print(\" \",end=\"\") # here takeing the tabespaces\n",
    "    print(\"@\")"
   ]
  },
  {
   "cell_type": "code",
   "execution_count": 182,
   "id": "dbbf6e68",
   "metadata": {},
   "outputs": [
    {
     "name": "stdout",
     "output_type": "stream",
     "text": [
      " 2\n",
      "   2\n",
      " 2\n",
      "   2\n",
      " 2\n",
      "   2\n",
      " 2\n",
      "   2\n",
      " 2\n",
      "   2\n"
     ]
    }
   ],
   "source": [
    "for i in range (0,10):\n",
    "    for j in range(0,3+i-i-j):     #4-i,3):\n",
    "        print(\" \",end=\"\")\n",
    "    for z in range(1,2):   # ,\n",
    "        print(\"2\",end=\"\")\n",
    "    print(\"\")\n",
    "    "
   ]
  },
  {
   "cell_type": "code",
   "execution_count": 217,
   "id": "539f6185",
   "metadata": {},
   "outputs": [
    {
     "name": "stdout",
     "output_type": "stream",
     "text": [
      "      \n",
      "     222222\n",
      "    2222222222222\n",
      "   22222222222222222222\n",
      "  222222222222222222222222222\n",
      " 2222222222222222222222222222222222\n",
      "222222222222222222222222222222222222222222\n",
      "22222222222222222222222222222222222222222222222222\n",
      "2222222222222222222222222222222222222222222222222222222222\n",
      "222222222222222222222222222222222222222222222222222222222222222222\n"
     ]
    }
   ],
   "source": [
    "for i in range (0,10):\n",
    "    for j in range(0,2*3-i):     #4-i,3):\n",
    "        print(\" \",end=\"\")\n",
    "    for z in range(1,8*i-5+j):   # ,\n",
    "        print(\"2\",end=\"\")\n",
    "    print(\"\")\n",
    "    "
   ]
  },
  {
   "cell_type": "code",
   "execution_count": 218,
   "id": "d7fe1300",
   "metadata": {},
   "outputs": [
    {
     "name": "stdout",
     "output_type": "stream",
     "text": [
      "          2\n",
      "         222\n",
      "        22222\n",
      "       2222222\n",
      "      222222222\n",
      "     22222222222\n",
      "    2222222222222\n",
      "   222222222222222\n",
      "  22222222222222222\n",
      " 2222222222222222222\n"
     ]
    }
   ],
   "source": [
    "for i in range (0,10):\n",
    "    for j in range(0,10-i):     #4-i,3):\n",
    "        print(\" \",end=\"\")\n",
    "    for z in range(0,2*i+1):   # ,the values 2 is terurn as one value and 3 is return value is 2....etc.\n",
    "        print(\"2\",end=\"\")\n",
    "    print(\"\")\n",
    "    "
   ]
  },
  {
   "cell_type": "code",
   "execution_count": 227,
   "id": "63c0de1f",
   "metadata": {},
   "outputs": [
    {
     "name": "stdout",
     "output_type": "stream",
     "text": [
      "    @\n",
      "   @@@@@@\n",
      "  @@@@@@@@@@@\n",
      " @@@@@@@@@@@@@@@@\n",
      "@@@@@@@@@@@@@@@@@@@@@\n"
     ]
    }
   ],
   "source": [
    "for i in range(0,5):\n",
    "    for j in range(0,4-i):\n",
    "        print(\" \",end=\"\")\n",
    "    for s in range(0,5*i+1):\n",
    "        print(\"@\",end=\"\")\n",
    "    print(\"\")\n",
    "        "
   ]
  }
 ],
 "metadata": {
  "kernelspec": {
   "display_name": "Python 3 (ipykernel)",
   "language": "python",
   "name": "python3"
  },
  "language_info": {
   "codemirror_mode": {
    "name": "ipython",
    "version": 3
   },
   "file_extension": ".py",
   "mimetype": "text/x-python",
   "name": "python",
   "nbconvert_exporter": "python",
   "pygments_lexer": "ipython3",
   "version": "3.9.7"
  }
 },
 "nbformat": 4,
 "nbformat_minor": 5
}
